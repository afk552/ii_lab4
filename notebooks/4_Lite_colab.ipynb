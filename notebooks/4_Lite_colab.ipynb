{
  "cells": [
    {
      "cell_type": "markdown",
      "metadata": {
        "id": "1YZ8VoAxmruT"
      },
      "source": [
        "Дорогой студент!\n",
        "\n",
        "В домашнем задании Lite вам предлагается поработать подробнее с параметрами словаря и формированием гиперпараметров нейронной сети. Создайте 9 нейросетей с различными гиперпараметрами (см. пунтк 2 и 3)\n",
        "\n",
        " Для этого необходимо:\n",
        "\n",
        "  1. Воссоздать ноутбук, аналогичный ноутбуку практической части №1, загрузив при этом необходимую нам базу (код уже доступен в ноутбуке).\n",
        "\n",
        "  2. Задать в ноутбуке следующие параметры для размера словаря, ширины окна и шага:\n",
        "\n",
        "    - Размер словаря - от 10000 до 20000 (выбрать меньшее значение диапазона, если будет перегрузка ОЗУ и перезапуск подключения к Colaboratory)\n",
        "    - Ширина окна - от 1000 до 2000\n",
        "    - Шаг - от 100 до 500 (на обучение лучше влияет наименьший шаг, но это может перегрузить ОЗУ).\n",
        "\n",
        "  3. Создать архитектуру сети и задать гиперпараметры. Можно воспользоваться шаблоном:\n",
        "  \n",
        "   - Добавьте модель прямого распространения **Sequential()**\n",
        "   - Добавьте один или несколько полносвязных (**Dense**) слоёв\n",
        "   - Добавьте слои **Dropout()** и **BatchNormalization()**\n",
        "   - Добавьте выходной полносвязный слой с количеством нейронов, соответствующим количеству классов (число писателей)\n",
        "  \n",
        "   Напомним, что точность сети можно проверить по значению показателя 'val_accuracy' на конце каждой эпохи.\n",
        "   "
      ]
    },
    {
      "cell_type": "markdown",
      "metadata": {
        "id": "ky1AgGdguwwb"
      },
      "source": [
        "### Импорт библиотек"
      ]
    },
    {
      "cell_type": "code",
      "execution_count": null,
      "metadata": {
        "id": "E2_tU14GmA7r"
      },
      "outputs": [],
      "source": [
        "# Работа с массивами данных\n",
        "import numpy as np\n",
        "import tensorflow as tf\n",
        "# Функции-утилиты для работы с категориальными данными\n",
        "from tensorflow.keras import utils\n",
        "# Класс для конструирования последовательной модели нейронной сети\n",
        "from tensorflow.keras.models import Sequential\n",
        "# Основные слои\n",
        "from tensorflow.keras.layers import Dense, Dropout, BatchNormalization\n",
        "# Токенизатор для преобразование текстов в последовательности\n",
        "from tensorflow.keras.preprocessing.text import Tokenizer\n",
        "# Загрузка датасетов из облака google\n",
        "import gdown\n",
        "import pandas as pd\n",
        "# Функции операционной системы\n",
        "import os\n",
        "# Регулярные выражения\n",
        "import re"
      ]
    },
    {
      "cell_type": "code",
      "execution_count": null,
      "metadata": {},
      "outputs": [],
      "source": [
        "# Работа с google диском\n",
        "from google.colab import drive"
      ]
    },
    {
      "cell_type": "markdown",
      "metadata": {
        "id": "uZbnapFn_SQ0"
      },
      "source": [
        "### Установка сида"
      ]
    },
    {
      "cell_type": "code",
      "execution_count": null,
      "metadata": {
        "id": "Da_g63vY-8-H"
      },
      "outputs": [],
      "source": [
        "SEED = 52\n",
        "os.environ['PYTHONHASHSEED']=str(SEED)\n",
        "os.environ['TF_CUDNN_DETERMINISTIC'] = '1'\n",
        "np.random.seed(SEED)\n",
        "tf.random.set_seed(SEED)"
      ]
    },
    {
      "cell_type": "markdown",
      "metadata": {
        "id": "S4WZ_WpXwkMb"
      },
      "source": [
        "Загрузка датасета с текстами писателей в виде архива и распаковка его в папку:"
      ]
    },
    {
      "cell_type": "code",
      "execution_count": null,
      "metadata": {
        "colab": {
          "base_uri": "https://localhost:8080/"
        },
        "id": "wvMwi3yb_qRN",
        "outputId": "b4fc1250-06d4-4eef-fa81-220c4b79bcda"
      },
      "outputs": [
        {
          "name": "stdout",
          "output_type": "stream",
          "text": [
            "'(Булгаков) Обучающая_5 вместе.txt'\t    '(О. Генри) Обучающая_50 вместе.txt'\n",
            "'(Булгаков) Тестовая_2 вместе.txt'\t    '(О. Генри) Тестовая_20 вместе.txt'\n",
            "'(Клиффорд_Саймак) Обучающая_5 вместе.txt'  '(Рэй Брэдберри) Обучающая_22 вместе.txt'\n",
            "'(Клиффорд_Саймак) Тестовая_2 вместе.txt'   '(Рэй Брэдберри) Тестовая_8 вместе.txt'\n",
            "'(Макс Фрай) Обучающая_5 вместе.txt'\t    '(Стругацкие) Обучающая_5 вместе.txt'\n",
            "'(Макс Фрай) Тестовая_2 вместе.txt'\t    '(Стругацкие) Тестовая_2 вместе.txt'\n"
          ]
        }
      ],
      "source": [
        "# Загрузка датасета из облака\n",
        "gdown.download('https://storage.yandexcloud.net/aiueducation/Content/base/l7/writers.zip', None, quiet=True)\n",
        "\n",
        "# Распаковка архива в папку writers\n",
        "!unzip -qo writers.zip -d writers/\n",
        "\n",
        "# Просмотр содержимого папки\n",
        "!ls writers"
      ]
    },
    {
      "cell_type": "markdown",
      "metadata": {
        "id": "v3lnuZ2XxDjf"
      },
      "source": [
        "Сохранение в отдельных переменных:\n",
        "\n",
        "   - Имя для папки с текстами\n",
        "   - Название выборки \"обучающая\"\n",
        "   - Название выборки \"тестовая\""
      ]
    },
    {
      "cell_type": "code",
      "execution_count": null,
      "metadata": {
        "id": "0o6vKYPJxECB"
      },
      "outputs": [],
      "source": [
        "# Папка с текстовыми файлами\n",
        "FILE_DIR  = 'writers'\n",
        "# Признак обучающей выборки в имени файла\n",
        "SIG_TRAIN = 'обучающая'\n",
        "# Признак тестовой выборки в имени файла\n",
        "SIG_TEST  = 'тестовая'"
      ]
    },
    {
      "cell_type": "markdown",
      "metadata": {
        "id": "edtkKOhDx9dw"
      },
      "source": [
        "**Шаг 2.** Преобразование базы данных для обучения.\n",
        "\n",
        "Добавление имен всех писателей в список классов.\n",
        "\n",
        "Преобразование текстов в одну длинную строку и разбиение их отдельно в списки для каждого класса и выборки."
      ]
    },
    {
      "cell_type": "code",
      "execution_count": null,
      "metadata": {
        "colab": {
          "base_uri": "https://localhost:8080/"
        },
        "id": "wa_wqREXx2M7",
        "outputId": "809ce8ce-2d7a-4fbc-84cd-2edaca4b77e3"
      },
      "outputs": [
        {
          "name": "stdout",
          "output_type": "stream",
          "text": [
            "Добавление файла \"(Стругацкие) Тестовая_2 вместе.txt\" в класс \"Стругацкие\", тестовая выборка.\n",
            "Добавление файла \"(Клиффорд_Саймак) Обучающая_5 вместе.txt\" в класс \"Клиффорд_Саймак\", обучающая выборка.\n",
            "Добавление файла \"(Рэй Брэдберри) Обучающая_22 вместе.txt\" в класс \"Рэй Брэдберри\", обучающая выборка.\n",
            "Добавление файла \"(Рэй Брэдберри) Тестовая_8 вместе.txt\" в класс \"Рэй Брэдберри\", тестовая выборка.\n",
            "Добавление файла \"(Макс Фрай) Тестовая_2 вместе.txt\" в класс \"Макс Фрай\", тестовая выборка.\n",
            "Добавление файла \"(Булгаков) Тестовая_2 вместе.txt\" в класс \"Булгаков\", тестовая выборка.\n",
            "Добавление файла \"(Стругацкие) Обучающая_5 вместе.txt\" в класс \"Стругацкие\", обучающая выборка.\n",
            "Добавление файла \"(Макс Фрай) Обучающая_5 вместе.txt\" в класс \"Макс Фрай\", обучающая выборка.\n",
            "Добавление файла \"(О. Генри) Тестовая_20 вместе.txt\" в класс \"О. Генри\", тестовая выборка.\n",
            "Добавление файла \"(О. Генри) Обучающая_50 вместе.txt\" в класс \"О. Генри\", обучающая выборка.\n",
            "Добавление файла \"(Булгаков) Обучающая_5 вместе.txt\" в класс \"Булгаков\", обучающая выборка.\n",
            "Добавление файла \"(Клиффорд_Саймак) Тестовая_2 вместе.txt\" в класс \"Клиффорд_Саймак\", тестовая выборка.\n"
          ]
        }
      ],
      "source": [
        "# В список добавляются имена классов\n",
        "CLASS_LIST = []\n",
        "\n",
        "# Здесь сохраняются тексты для обучения сети\n",
        "text_train = []\n",
        "\n",
        "# А здесь для проверки точности сети\n",
        "text_test = []\n",
        "\n",
        "# цикл для итерации по каждому имени текста в общей папке\n",
        "for file_name in os.listdir(FILE_DIR):\n",
        "\n",
        "    # Выделение имени класса и типа выборки из имени файла\n",
        "    m = re.match('\\((.+)\\) (\\S+)_', file_name)\n",
        "\n",
        "    # Если выделение получилось, то файл обрабатывается\n",
        "    if m:\n",
        "        # отдельно берём имя класса (автора)\n",
        "        class_name = m[1]\n",
        "        # отдельно - имя выборки\n",
        "        subset_name = m[2].lower()\n",
        "        # Проверка типа выборки по названию в имени файла\n",
        "        is_train = SIG_TRAIN in subset_name\n",
        "        is_test = SIG_TEST in subset_name\n",
        "        # Если тип выборки обучающая или тестовая - файл обрабатывается\n",
        "        if is_train or is_test:\n",
        "            # Добавление нового класса, если его еще нет в списке\n",
        "            if class_name not in CLASS_LIST:\n",
        "                # Выводится информационное сообщение о добавлении названия класса\n",
        "                CLASS_LIST.append(class_name)\n",
        "                # Инициализация соответствующих классу строк текста\n",
        "                text_train.append('')\n",
        "                text_test.append('')\n",
        "\n",
        "            # Поиск индекса класса для добавления содержимого файла в выборку\n",
        "            cls = CLASS_LIST.index(class_name)\n",
        "            # Выводится информационное сообщение о добавлении класса в список классов и текста к выборке\n",
        "            print(f'Добавление файла \"{file_name}\" в класс \"{CLASS_LIST[cls]}\", {subset_name} выборка.')\n",
        "            # оператор with - безопасное чтение каждого файла с текстом\n",
        "            with open(f'{FILE_DIR}/{file_name}', 'r') as f:\n",
        "                # Загрузка содержимого файла в строку\n",
        "                text = f.read()\n",
        "            # Определение выборки, куда будет добавлено содержимое\n",
        "            subset = text_train if is_train else text_test\n",
        "            # Добавление текста к соответствующей выборке класса. Концы строк заменяются на пробел\n",
        "            subset[cls] += ' ' + text.replace('\\n', ' ')\n",
        "\n",
        "# Кол-во классов\n",
        "CLASS_COUNT = len(CLASS_LIST)"
      ]
    },
    {
      "cell_type": "markdown",
      "metadata": {
        "id": "e6KFkTkYyq1y"
      },
      "source": [
        "Подготовка текстовой инфрмации для обработки Токенайзером. Для этого сохрание в подходящих именах переменных со следующим параметрами:\n",
        "\n",
        "   - Объем словаря для токенизатора\n",
        "   - Длина отрезка текста (окна) в словах\n",
        "   - Шаг смещения окна по тексту для деления на векторы\n",
        "\n",
        "И затем вызов самого Токенайзера, передав в его параметры эти переменные и оставшиеся значения для преобразования."
      ]
    },
    {
      "cell_type": "code",
      "execution_count": null,
      "metadata": {
        "id": "OruBwLqkyrLt"
      },
      "outputs": [],
      "source": [
        "# Объем словаря для токенизатора\n",
        "VOCAB_SIZE = 15000\n",
        "# Длина отрезка текста (окна) в словах\n",
        "WIN_SIZE   = 3000\n",
        "# Шаг окна разбиения текста на векторы\n",
        "WIN_HOP    = 300\n",
        "\n",
        "# Токенайзер из Keras для разбиения текста и построения частотного словаря\n",
        "tokenizer = Tokenizer(num_words=VOCAB_SIZE, filters='!\"#$%&()*+,-–—./…:;<=>?@[\\\\]^_`{|}~«»\\t\\n\\xa0\\ufeff',\n",
        "                          lower=True, split=' ', oov_token='неизвестное_слово', char_level=False)"
      ]
    },
    {
      "cell_type": "markdown",
      "metadata": {
        "id": "NS7TUrrz1M-9"
      },
      "source": [
        "Отдельно обучение самого Токенайзера на выборке текстов для обучения сети:\n"
      ]
    },
    {
      "cell_type": "code",
      "execution_count": null,
      "metadata": {
        "id": "skrycupq1Moi"
      },
      "outputs": [],
      "source": [
        "# Получаем словарь частотности\n",
        "tokenizer.fit_on_texts(text_train)"
      ]
    },
    {
      "cell_type": "markdown",
      "metadata": {
        "id": "n4YC49gT-284"
      },
      "source": [
        "Преобразование обучающих и проверочных текстов в последовательность индексов согласно частотному словарю Токенайзера:"
      ]
    },
    {
      "cell_type": "code",
      "execution_count": null,
      "metadata": {
        "id": "6V1IUpSY-_4M"
      },
      "outputs": [],
      "source": [
        "seq_train = tokenizer.texts_to_sequences(text_train)\n",
        "seq_test = tokenizer.texts_to_sequences(text_test)"
      ]
    },
    {
      "cell_type": "markdown",
      "metadata": {
        "id": "56gEAIUZ1eQ6"
      },
      "source": [
        "**Шаг 3.** Создание функций для формирования выборок. Формирование выборок.\n",
        "\n",
        "Воспроизведение блока кода с двумя функциями:\n",
        "\n",
        "  1. Функция деления последовательности индексов на отрезки скользящим окном"
      ]
    },
    {
      "cell_type": "code",
      "execution_count": null,
      "metadata": {
        "id": "lxJIXy9E1dv2"
      },
      "outputs": [],
      "source": [
        "def split_sequence(sequence,   # Последовательность индексов\n",
        "                   win_size,   # Размер окна для деления на примеры\n",
        "                   hop):       # Шаг окна\n",
        "\n",
        "    # Последовательность разбивается на части до последнего полного окна\n",
        "    return [sequence[i:i + win_size] for i in range(0, len(sequence) - win_size + 1, hop)]"
      ]
    },
    {
      "cell_type": "markdown",
      "metadata": {
        "id": "hGSCHmlyOXhc"
      },
      "source": [
        " 2. Функция формирования выборок из индексов и соответствующих классам меток в формате One Hot Encoding"
      ]
    },
    {
      "cell_type": "code",
      "execution_count": null,
      "metadata": {
        "id": "M-s7ZBCCOYg6"
      },
      "outputs": [],
      "source": [
        "def vectorize_sequence(seq_list,    # Список последовательностей индексов\n",
        "                       win_size,    # Размер окна для деления на примеры\n",
        "                       hop):        # Шаг окна\n",
        "\n",
        "    # В списке последовательности следуют в порядке их классов (их кол-во сповпадает с кол-вом классов)\n",
        "    class_count = len(seq_list)\n",
        "    # Списки для исходных векторов и категориальных меток класса\n",
        "    x, y = [], []\n",
        "    # Для каждого класса:\n",
        "    for cls in range(class_count):\n",
        "        # Разбиение последовательности класса cls на отрезки\n",
        "        vectors = split_sequence(seq_list[cls], win_size, hop)\n",
        "        # Добавление отрезков в выборку\n",
        "        x += vectors\n",
        "        # Для всех отрезков класса cls добавление меток класса в виде OHE\n",
        "        y += [utils.to_categorical(cls, class_count)] * len(vectors)\n",
        "\n",
        "    # Возврат результатов как numpy-массивов\n",
        "    return np.array(x), np.array(y)"
      ]
    },
    {
      "cell_type": "markdown",
      "metadata": {
        "id": "X6UIcMij2v6Y"
      },
      "source": [
        "Формирование выборки (x_train, y_train) и (x_test, y_test) с помощью функций, воспроизведённых в ячейке выше:"
      ]
    },
    {
      "cell_type": "code",
      "execution_count": null,
      "metadata": {
        "colab": {
          "base_uri": "https://localhost:8080/"
        },
        "id": "-TlOfvwa2vgc",
        "outputId": "0050a5fe-0d6c-42ac-dc8f-b9ac714d944b"
      },
      "outputs": [
        {
          "name": "stdout",
          "output_type": "stream",
          "text": [
            "(5842, 3000) (5842, 6)\n",
            "(2190, 3000) (2190, 6)\n"
          ]
        }
      ],
      "source": [
        "# Формирование обучающей выборки\n",
        "x_train, y_train = vectorize_sequence(seq_train, WIN_SIZE, WIN_HOP)\n",
        "# Формирование тестовой выборки\n",
        "x_test, y_test = vectorize_sequence(seq_test, WIN_SIZE, WIN_HOP)\n",
        "\n",
        "# Проверка формы сформированных данных\n",
        "print(x_train.shape, y_train.shape)\n",
        "print(x_test.shape, y_test.shape)"
      ]
    },
    {
      "cell_type": "markdown",
      "metadata": {
        "id": "jiiOXgiX3UFK"
      },
      "source": [
        "Формирование выборки индексов слов в виде матриц Bag Of Words методом  **sequences_to_matrix( )**."
      ]
    },
    {
      "cell_type": "code",
      "execution_count": null,
      "metadata": {
        "colab": {
          "base_uri": "https://localhost:8080/"
        },
        "id": "TvpEhEXm36F3",
        "outputId": "69ba10ff-e80d-400e-e74f-cc9e0db8b4d8"
      },
      "outputs": [
        {
          "name": "stdout",
          "output_type": "stream",
          "text": [
            "(5842, 15000)\n",
            "[0. 1. 1. 1. 1. 1. 1. 1. 1. 1. 1. 1. 1. 1. 1. 1. 1. 1. 1. 1. 1. 1. 1. 1.\n",
            " 1. 1. 1. 1. 1. 1. 1. 1. 1. 1. 1. 1. 1. 1. 1. 1. 1. 1. 1. 1. 1. 1. 1. 1.\n",
            " 1. 1. 1. 1. 1. 1. 1. 1. 1. 0. 1. 1. 1. 1. 1. 1. 1. 0. 1. 1. 1. 1. 1. 1.\n",
            " 1. 0. 1. 1. 1. 1. 1. 1. 1. 1. 0. 1. 1. 1. 1. 1. 1. 1. 0. 1. 1. 1. 1. 1.\n",
            " 1. 1. 1. 1.]\n"
          ]
        }
      ],
      "source": [
        "# На входе .sequences_to_matrix() ожидает список, .tolist() выполняет преобразование к типу данных 'список'\n",
        "x_train_01 = tokenizer.sequences_to_matrix(x_train.tolist())\n",
        "x_test_01 = tokenizer.sequences_to_matrix(x_test.tolist())\n",
        "\n",
        "# Выводим форму обучающей выборки в виде матрицы Bag of Words\n",
        "print(x_train_01.shape)\n",
        "# Выводим фрагмент отрезка обучающего текста в виде Bag of Words\n",
        "print(x_train_01[0][0:100])"
      ]
    },
    {
      "cell_type": "markdown",
      "metadata": {
        "id": "DfVgSybU4inE"
      },
      "source": [
        "**Шаг 4.** Создание архитектуры нейронной сети.\n",
        "\n",
        "Создайте несложную архитектуру нейронной сети. После этого произведите компиляцию модели с соответствующими параметрами:"
      ]
    },
    {
      "cell_type": "code",
      "execution_count": null,
      "metadata": {
        "id": "4B2O7ZCq4jXf"
      },
      "outputs": [],
      "source": [
        "model = Sequential()                                            # Создание последовательной модели нейросети\n",
        "model.add(Dense(184, input_dim=VOCAB_SIZE, activation=\"relu\"))  # Первый полносвязный слой\n",
        "model.add(Dense(86, activation=\"relu\"))                         # Второй полносвязный слой\n",
        "model.add(Dense(33, activation=\"relu\"))                         # Третий полносвязный слой\n",
        "model.add(BatchNormalization())                                 # Слой пакетной нормализации\n",
        "model.add(Dropout(0.1))                                         # Слой регуляризации Dropout\n",
        "model.add(Dense(CLASS_COUNT, activation='sigmoid'))             # Выходной полносвязный слой\n",
        "\n",
        "model.compile(optimizer='adam',                                 # Компиляция модели для обучения на данных вида Bag of Words\n",
        "              loss='categorical_crossentropy',\n",
        "              metrics=['accuracy'])"
      ]
    },
    {
      "cell_type": "markdown",
      "metadata": {
        "id": "uyLd3_uS58Zv"
      },
      "source": [
        "Обучите модель нейронной сети и посмотрите на результаты точности на проверочной выборке:"
      ]
    },
    {
      "cell_type": "code",
      "execution_count": null,
      "metadata": {
        "colab": {
          "base_uri": "https://localhost:8080/"
        },
        "id": "wmiVZ4Ip572-",
        "outputId": "7451ca4c-9ccf-4702-d198-cbb126229b64"
      },
      "outputs": [
        {
          "name": "stdout",
          "output_type": "stream",
          "text": [
            "Epoch 1/20\n",
            "183/183 [==============================] - 7s 10ms/step - loss: 0.1003 - accuracy: 0.9832 - val_loss: 0.3200 - val_accuracy: 0.9370\n",
            "Epoch 2/20\n",
            "183/183 [==============================] - 1s 6ms/step - loss: 0.0069 - accuracy: 1.0000 - val_loss: 0.3051 - val_accuracy: 0.9178\n",
            "Epoch 3/20\n",
            "183/183 [==============================] - 1s 7ms/step - loss: 0.0034 - accuracy: 1.0000 - val_loss: 0.2929 - val_accuracy: 0.9137\n",
            "Epoch 4/20\n",
            "183/183 [==============================] - 1s 7ms/step - loss: 0.0017 - accuracy: 1.0000 - val_loss: 0.2797 - val_accuracy: 0.9146\n",
            "Epoch 5/20\n",
            "183/183 [==============================] - 1s 8ms/step - loss: 0.0012 - accuracy: 1.0000 - val_loss: 0.2700 - val_accuracy: 0.9128\n",
            "Epoch 6/20\n",
            "183/183 [==============================] - 2s 8ms/step - loss: 9.0407e-04 - accuracy: 1.0000 - val_loss: 0.2385 - val_accuracy: 0.9320\n",
            "Epoch 7/20\n",
            "183/183 [==============================] - 1s 6ms/step - loss: 6.8182e-04 - accuracy: 1.0000 - val_loss: 0.2384 - val_accuracy: 0.9283\n",
            "Epoch 8/20\n",
            "183/183 [==============================] - 1s 7ms/step - loss: 5.2303e-04 - accuracy: 1.0000 - val_loss: 0.2394 - val_accuracy: 0.9237\n",
            "Epoch 9/20\n",
            "183/183 [==============================] - 1s 6ms/step - loss: 4.2939e-04 - accuracy: 1.0000 - val_loss: 0.2368 - val_accuracy: 0.9237\n",
            "Epoch 10/20\n",
            "183/183 [==============================] - 1s 7ms/step - loss: 3.4816e-04 - accuracy: 1.0000 - val_loss: 0.2315 - val_accuracy: 0.9247\n",
            "Epoch 11/20\n",
            "183/183 [==============================] - 1s 7ms/step - loss: 2.8108e-04 - accuracy: 1.0000 - val_loss: 0.2336 - val_accuracy: 0.9265\n",
            "Epoch 12/20\n",
            "183/183 [==============================] - 1s 6ms/step - loss: 2.4179e-04 - accuracy: 1.0000 - val_loss: 0.2270 - val_accuracy: 0.9265\n",
            "Epoch 13/20\n",
            "183/183 [==============================] - 1s 7ms/step - loss: 2.0788e-04 - accuracy: 1.0000 - val_loss: 0.2215 - val_accuracy: 0.9274\n",
            "Epoch 14/20\n",
            "183/183 [==============================] - 1s 6ms/step - loss: 1.6874e-04 - accuracy: 1.0000 - val_loss: 0.2187 - val_accuracy: 0.9297\n",
            "Epoch 15/20\n",
            "183/183 [==============================] - 1s 7ms/step - loss: 1.2958e-04 - accuracy: 1.0000 - val_loss: 0.2058 - val_accuracy: 0.9379\n",
            "Epoch 16/20\n",
            "183/183 [==============================] - 1s 8ms/step - loss: 1.2928e-04 - accuracy: 1.0000 - val_loss: 0.2008 - val_accuracy: 0.9388\n",
            "Epoch 17/20\n",
            "183/183 [==============================] - 1s 6ms/step - loss: 1.1609e-04 - accuracy: 1.0000 - val_loss: 0.2092 - val_accuracy: 0.9324\n",
            "Epoch 18/20\n",
            "183/183 [==============================] - 1s 6ms/step - loss: 9.8047e-05 - accuracy: 1.0000 - val_loss: 0.1956 - val_accuracy: 0.9402\n",
            "Epoch 19/20\n",
            "183/183 [==============================] - 1s 7ms/step - loss: 8.8872e-05 - accuracy: 1.0000 - val_loss: 0.1994 - val_accuracy: 0.9361\n",
            "Epoch 20/20\n",
            "183/183 [==============================] - 1s 7ms/step - loss: 7.4240e-05 - accuracy: 1.0000 - val_loss: 0.1996 - val_accuracy: 0.9365\n"
          ]
        }
      ],
      "source": [
        "# Обучение сети с помощью функции fit()\n",
        "history = model.fit(x_train_01,                            # Обучающая выборка Bag of Words\n",
        "                        y_train,                               # Метки классов обучающей выборки\n",
        "                        epochs=20,                             # Количество эпох\n",
        "                        batch_size=32,                         # Размер подвыборки для одного шага по данным на эпохе\n",
        "                        validation_data=(x_test_01, y_test))   # Проверочная выборка и метки классов проверочной выборки"
      ]
    },
    {
      "cell_type": "markdown",
      "metadata": {
        "id": "jWyYhPs53ys2"
      },
      "source": [
        "Создать 9 нейросетей с различными параметрами словаря и гиперпараметрами нейронной сети.\n",
        "\n",
        "Параметры размера словаря, ширины окна и шага:\n",
        "- Размер словаря - от 10000 до 20000 (выбрать меньшее\n",
        "значение диапазона, если будет перегрузка ОЗУ и перезапуск подключения к Colaboratory)\n",
        "- Ширина окна - от 1000 до 2000\n",
        "- Шаг - от 100 до 500 (меньший шаг лучше для обучения, но это может перегрузить ОЗУ).\n",
        "\n",
        "\n",
        "\n",
        "\n",
        "Архитектура сети с гиперпараметрами:\n",
        "- Модель прямого распространения Sequential()\n",
        "- Один или несколько полносвязных (Dense) слоёв\n",
        "- Слои Dropout() и BatchNormalization()\n",
        "- Выходной полносвязный слой с количеством нейронов, соответствующим количеству классов (число писателей)\n",
        "Точность сети проверить по значению показателя 'val_accuracy'."
      ]
    },
    {
      "cell_type": "markdown",
      "metadata": {
        "id": "SJD9POc6tYpB"
      },
      "source": [
        "Запишите результаты в таблицу:"
      ]
    },
    {
      "cell_type": "code",
      "execution_count": null,
      "metadata": {
        "colab": {
          "base_uri": "https://localhost:8080/"
        },
        "id": "aHuhzwFVtZIc",
        "outputId": "d07e9c7d-5bfc-49db-9a2f-05eaf47526ba"
      },
      "outputs": [
        {
          "name": "stdout",
          "output_type": "stream",
          "text": [
            "9\n",
            "loss            0.000608\n",
            "accuracy        1.000000\n",
            "val_loss        0.345793\n",
            "val_accuracy    0.891148\n",
            "dtype: float64\n",
            "4\n",
            "loss            0.001331\n",
            "accuracy        1.000000\n",
            "val_loss        0.358687\n",
            "val_accuracy    0.886663\n",
            "dtype: float64\n",
            "7\n",
            "loss            0.003493\n",
            "accuracy        1.000000\n",
            "val_loss        0.413964\n",
            "val_accuracy    0.881343\n",
            "dtype: float64\n",
            "7\n",
            "loss            0.003533\n",
            "accuracy        1.000000\n",
            "val_loss        0.360254\n",
            "val_accuracy    0.897015\n",
            "dtype: float64\n",
            "7\n",
            "loss            0.000755\n",
            "accuracy        1.000000\n",
            "val_loss        0.269882\n",
            "val_accuracy    0.926071\n",
            "dtype: float64\n",
            "7\n",
            "loss            0.000597\n",
            "accuracy        1.000000\n",
            "val_loss        0.271912\n",
            "val_accuracy    0.930597\n",
            "dtype: float64\n",
            "3\n",
            "loss            0.005794\n",
            "accuracy        1.000000\n",
            "val_loss        0.282623\n",
            "val_accuracy    0.941265\n",
            "dtype: float64\n",
            "6\n",
            "loss            0.002699\n",
            "accuracy        1.000000\n",
            "val_loss        0.299893\n",
            "val_accuracy    0.922440\n",
            "dtype: float64\n",
            "2\n",
            "loss            0.003971\n",
            "accuracy        1.000000\n",
            "val_loss        0.363712\n",
            "val_accuracy    0.895634\n",
            "dtype: float64\n",
            "7\n",
            "loss            0.000722\n",
            "accuracy        1.000000\n",
            "val_loss        0.347029\n",
            "val_accuracy    0.899222\n",
            "dtype: float64\n",
            "9\n",
            "loss            0.002423\n",
            "accuracy        1.000000\n",
            "val_loss        0.412551\n",
            "val_accuracy    0.885075\n",
            "dtype: float64\n",
            "8\n",
            "loss            0.002243\n",
            "accuracy        1.000000\n",
            "val_loss        0.348753\n",
            "val_accuracy    0.912687\n",
            "dtype: float64\n",
            "0\n",
            "loss            0.135027\n",
            "accuracy        0.979527\n",
            "val_loss        0.411632\n",
            "val_accuracy    0.929089\n",
            "dtype: float64\n",
            "9\n",
            "loss            0.000298\n",
            "accuracy        1.000000\n",
            "val_loss        0.240636\n",
            "val_accuracy    0.937538\n",
            "dtype: float64\n",
            "7\n",
            "loss            0.002739\n",
            "accuracy        1.000000\n",
            "val_loss        0.305666\n",
            "val_accuracy    0.928464\n",
            "dtype: float64\n",
            "7\n",
            "loss            0.003418\n",
            "accuracy        1.000000\n",
            "val_loss        0.356741\n",
            "val_accuracy    0.929217\n",
            "dtype: float64\n",
            "Вывод: Лучший результат 0.94% при параметрах VOCAB_SIZE:10000 WIN_SIZE:2000 WIN_HOP:500 Sec_Dence:True\n"
          ]
        }
      ],
      "source": [
        "CLASS_COUNT = len(CLASS_LIST)\n",
        "VOCAB_SIZE = [10000, 15000]\n",
        "WIN_SIZE = [1000, 2000]\n",
        "WIN_HOP = [200, 500]\n",
        "table = pd.DataFrame()\n",
        "\n",
        "def split_sequence(sequence, win_size, hop):\n",
        "    return [sequence[i:i + win_size] for i in range(0, len(sequence) - win_size + 1, hop)]\n",
        "\n",
        "def vectorize_sequence(seq_list, win_size, hop):\n",
        "    class_count = len(seq_list)\n",
        "    x, y = [], []\n",
        "\n",
        "    for cls in range(class_count):\n",
        "        vectors = split_sequence(seq_list[cls], win_size, hop)\n",
        "        x += vectors\n",
        "        y += [utils.to_categorical(cls, class_count)] * len(vectors)\n",
        "\n",
        "    return np.array(x), np.array(y)\n",
        "\n",
        "\n",
        "for i in VOCAB_SIZE:\n",
        "  for j in WIN_SIZE:\n",
        "    for k in WIN_HOP:\n",
        "      for l in [True, False]:\n",
        "        tokenizer = Tokenizer(num_words=i, filters='!\"#$%&()*+,-–—./…:;<=>?@[\\\\]^_`{|}~«»\\t\\n\\xa0\\ufeff',\n",
        "                            lower=True, split=' ', oov_token='неизвестное_слово', char_level=False)\n",
        "\n",
        "        tokenizer.fit_on_texts(text_train)\n",
        "\n",
        "        seq_train = tokenizer.texts_to_sequences(text_train)\n",
        "        seq_test = tokenizer.texts_to_sequences(text_test)\n",
        "\n",
        "        x_train, y_train = vectorize_sequence(seq_train, j, k)\n",
        "        x_test, y_test = vectorize_sequence(seq_test, j, k)\n",
        "\n",
        "        x_train_01 = tokenizer.sequences_to_matrix(x_train.tolist())\n",
        "        x_test_01 = tokenizer.sequences_to_matrix(x_test.tolist())\n",
        "\n",
        "        model = Sequential()\n",
        "        model.add(Dense(256, input_dim=i, activation=\"relu\"))\n",
        "        if l:\n",
        "          model.add(Dense(128, activation=\"relu\"))\n",
        "        model.add(Dense(32, activation=\"relu\"))\n",
        "        model.add(BatchNormalization())\n",
        "        model.add(Dropout(0.1))\n",
        "        model.add(Dense(CLASS_COUNT, activation='sigmoid'))\n",
        "\n",
        "        model.compile(optimizer='adam', loss='categorical_crossentropy', metrics=['accuracy'])\n",
        "\n",
        "        history = model.fit(x_train_01, y_train, epochs=10, batch_size=64,\n",
        "                                validation_data=(x_test_01, y_test), verbose=0)\n",
        "\n",
        "\n",
        "        valAccMaxInd = np.argmax(history.history['val_accuracy'])\n",
        "        # print(history.history)\n",
        "        lossMax = history.history['loss'][valAccMaxInd]\n",
        "        accMax = history.history['accuracy'][valAccMaxInd]\n",
        "        valLossMax = history.history['val_loss'][valAccMaxInd]\n",
        "        valAccMax = history.history['val_accuracy'][valAccMaxInd]\n",
        "\n",
        "        print(np.argmax(history.history['val_accuracy']))\n",
        "\n",
        "\n",
        "        historySrs = pd.Series([lossMax,accMax,valLossMax,valAccMax],\n",
        "                              index=['loss','accuracy','val_loss','val_accuracy'])\n",
        "\n",
        "        print(f'{historySrs}')\n",
        "        table[f'VOCAB_SIZE:{i} WIN_SIZE:{j} WIN_HOP:{k} Sec_Dence:{l}'] = historySrs\n",
        "\n",
        "table\n",
        "print(f'Вывод: Лучший результат {round(table[table.idxmax(axis=\"columns\")[3]][\"val_accuracy\"], 2)}% при параметрах {table.idxmax(axis=\"columns\")[3]}')"
      ]
    },
    {
      "cell_type": "code",
      "execution_count": null,
      "metadata": {
        "colab": {
          "base_uri": "https://localhost:8080/",
          "height": 247
        },
        "id": "Y4OuFzfY8qkv",
        "outputId": "49f14458-0f5e-4a12-d3f5-70af84df3d49"
      },
      "outputs": [
        {
          "data": {
            "application/vnd.google.colaboratory.intrinsic+json": {
              "summary": "{\n  \"name\": \"table\",\n  \"rows\": 4,\n  \"fields\": [\n    {\n      \"column\": \"VOCAB_SIZE:10000 WIN_SIZE:1000 WIN_HOP:200 Sec_Dence:True\",\n      \"properties\": {\n        \"dtype\": \"number\",\n        \"std\": 0.4697736981853273,\n        \"min\": 0.0006079480517655611,\n        \"max\": 1.0,\n        \"num_unique_values\": 4,\n        \"samples\": [\n          1.0,\n          0.8911483287811279,\n          0.0006079480517655611\n        ],\n        \"semantic_type\": \"\",\n        \"description\": \"\"\n      }\n    },\n    {\n      \"column\": \"VOCAB_SIZE:10000 WIN_SIZE:1000 WIN_HOP:200 Sec_Dence:False\",\n      \"properties\": {\n        \"dtype\": \"number\",\n        \"std\": 0.46652431986885246,\n        \"min\": 0.0013314102543517947,\n        \"max\": 1.0,\n        \"num_unique_values\": 4,\n        \"samples\": [\n          1.0,\n          0.8866626620292664,\n          0.0013314102543517947\n        ],\n        \"semantic_type\": \"\",\n        \"description\": \"\"\n      }\n    },\n    {\n      \"column\": \"VOCAB_SIZE:10000 WIN_SIZE:1000 WIN_HOP:500 Sec_Dence:True\",\n      \"properties\": {\n        \"dtype\": \"number\",\n        \"std\": 0.45717392007412794,\n        \"min\": 0.003492825897410512,\n        \"max\": 1.0,\n        \"num_unique_values\": 4,\n        \"samples\": [\n          1.0,\n          0.8813433051109314,\n          0.003492825897410512\n        ],\n        \"semantic_type\": \"\",\n        \"description\": \"\"\n      }\n    },\n    {\n      \"column\": \"VOCAB_SIZE:10000 WIN_SIZE:1000 WIN_HOP:500 Sec_Dence:False\",\n      \"properties\": {\n        \"dtype\": \"number\",\n        \"std\": 0.46784053339008513,\n        \"min\": 0.003533486044034362,\n        \"max\": 1.0,\n        \"num_unique_values\": 4,\n        \"samples\": [\n          1.0,\n          0.8970149159431458,\n          0.003533486044034362\n        ],\n        \"semantic_type\": \"\",\n        \"description\": \"\"\n      }\n    },\n    {\n      \"column\": \"VOCAB_SIZE:10000 WIN_SIZE:2000 WIN_HOP:200 Sec_Dence:True\",\n      \"properties\": {\n        \"dtype\": \"number\",\n        \"std\": 0.491278210820229,\n        \"min\": 0.0007549863657914102,\n        \"max\": 1.0,\n        \"num_unique_values\": 4,\n        \"samples\": [\n          1.0,\n          0.9260712265968323,\n          0.0007549863657914102\n        ],\n        \"semantic_type\": \"\",\n        \"description\": \"\"\n      }\n    },\n    {\n      \"column\": \"VOCAB_SIZE:10000 WIN_SIZE:2000 WIN_HOP:200 Sec_Dence:False\",\n      \"properties\": {\n        \"dtype\": \"number\",\n        \"std\": 0.49211401432971424,\n        \"min\": 0.0005969188641756773,\n        \"max\": 1.0,\n        \"num_unique_values\": 4,\n        \"samples\": [\n          1.0,\n          0.9305974841117859,\n          0.0005969188641756773\n        ],\n        \"semantic_type\": \"\",\n        \"description\": \"\"\n      }\n    },\n    {\n      \"column\": \"VOCAB_SIZE:10000 WIN_SIZE:2000 WIN_HOP:500 Sec_Dence:True\",\n      \"properties\": {\n        \"dtype\": \"number\",\n        \"std\": 0.4909240823547532,\n        \"min\": 0.005793590098619461,\n        \"max\": 1.0,\n        \"num_unique_values\": 4,\n        \"samples\": [\n          1.0,\n          0.9412650465965271,\n          0.005793590098619461\n        ],\n        \"semantic_type\": \"\",\n        \"description\": \"\"\n      }\n    },\n    {\n      \"column\": \"VOCAB_SIZE:10000 WIN_SIZE:2000 WIN_HOP:500 Sec_Dence:False\",\n      \"properties\": {\n        \"dtype\": \"number\",\n        \"std\": 0.48413035380360236,\n        \"min\": 0.0026989812031388283,\n        \"max\": 1.0,\n        \"num_unique_values\": 4,\n        \"samples\": [\n          1.0,\n          0.9224397540092468,\n          0.0026989812031388283\n        ],\n        \"semantic_type\": \"\",\n        \"description\": \"\"\n      }\n    },\n    {\n      \"column\": \"VOCAB_SIZE:15000 WIN_SIZE:1000 WIN_HOP:200 Sec_Dence:True\",\n      \"properties\": {\n        \"dtype\": \"number\",\n        \"std\": 0.46683731923117544,\n        \"min\": 0.003971164580434561,\n        \"max\": 1.0,\n        \"num_unique_values\": 4,\n        \"samples\": [\n          1.0,\n          0.8956339955329895,\n          0.003971164580434561\n        ],\n        \"semantic_type\": \"\",\n        \"description\": \"\"\n      }\n    },\n    {\n      \"column\": \"VOCAB_SIZE:15000 WIN_SIZE:1000 WIN_HOP:200 Sec_Dence:False\",\n      \"properties\": {\n        \"dtype\": \"number\",\n        \"std\": 0.4714547050661622,\n        \"min\": 0.0007215772056952119,\n        \"max\": 1.0,\n        \"num_unique_values\": 4,\n        \"samples\": [\n          1.0,\n          0.8992224931716919,\n          0.0007215772056952119\n        ],\n        \"semantic_type\": \"\",\n        \"description\": \"\"\n      }\n    },\n    {\n      \"column\": \"VOCAB_SIZE:15000 WIN_SIZE:1000 WIN_HOP:500 Sec_Dence:True\",\n      \"properties\": {\n        \"dtype\": \"number\",\n        \"std\": 0.4586229237830125,\n        \"min\": 0.0024234012234956026,\n        \"max\": 1.0,\n        \"num_unique_values\": 4,\n        \"samples\": [\n          1.0,\n          0.8850746154785156,\n          0.0024234012234956026\n        ],\n        \"semantic_type\": \"\",\n        \"description\": \"\"\n      }\n    },\n    {\n      \"column\": \"VOCAB_SIZE:15000 WIN_SIZE:1000 WIN_HOP:500 Sec_Dence:False\",\n      \"properties\": {\n        \"dtype\": \"number\",\n        \"std\": 0.4738373072008731,\n        \"min\": 0.0022433041594922543,\n        \"max\": 1.0,\n        \"num_unique_values\": 4,\n        \"samples\": [\n          1.0,\n          0.9126865863800049,\n          0.0022433041594922543\n        ],\n        \"semantic_type\": \"\",\n        \"description\": \"\"\n      }\n    },\n    {\n      \"column\": \"VOCAB_SIZE:15000 WIN_SIZE:2000 WIN_HOP:200 Sec_Dence:True\",\n      \"properties\": {\n        \"dtype\": \"number\",\n        \"std\": 0.4095763200786179,\n        \"min\": 0.13502727448940277,\n        \"max\": 0.9795268177986145,\n        \"num_unique_values\": 4,\n        \"samples\": [\n          0.9795268177986145,\n          0.9290887117385864,\n          0.13502727448940277\n        ],\n        \"semantic_type\": \"\",\n        \"description\": \"\"\n      }\n    },\n    {\n      \"column\": \"VOCAB_SIZE:15000 WIN_SIZE:2000 WIN_HOP:200 Sec_Dence:False\",\n      \"properties\": {\n        \"dtype\": \"number\",\n        \"std\": 0.5001494419163298,\n        \"min\": 0.0002977511612698436,\n        \"max\": 1.0,\n        \"num_unique_values\": 4,\n        \"samples\": [\n          1.0,\n          0.9375377297401428,\n          0.0002977511612698436\n        ],\n        \"semantic_type\": \"\",\n        \"description\": \"\"\n      }\n    },\n    {\n      \"column\": \"VOCAB_SIZE:15000 WIN_SIZE:2000 WIN_HOP:500 Sec_Dence:True\",\n      \"properties\": {\n        \"dtype\": \"number\",\n        \"std\": 0.4846266719835872,\n        \"min\": 0.0027386797592043877,\n        \"max\": 1.0,\n        \"num_unique_values\": 4,\n        \"samples\": [\n          1.0,\n          0.928463876247406,\n          0.0027386797592043877\n        ],\n        \"semantic_type\": \"\",\n        \"description\": \"\"\n      }\n    },\n    {\n      \"column\": \"VOCAB_SIZE:15000 WIN_SIZE:2000 WIN_HOP:500 Sec_Dence:False\",\n      \"properties\": {\n        \"dtype\": \"number\",\n        \"std\": 0.47623872977297665,\n        \"min\": 0.0034175103064626455,\n        \"max\": 1.0,\n        \"num_unique_values\": 4,\n        \"samples\": [\n          1.0,\n          0.9292168617248535,\n          0.0034175103064626455\n        ],\n        \"semantic_type\": \"\",\n        \"description\": \"\"\n      }\n    }\n  ]\n}",
              "type": "dataframe",
              "variable_name": "table"
            },
            "text/html": [
              "\n",
              "  <div id=\"df-e18e9533-88bd-4efa-ae29-be6b275458a1\" class=\"colab-df-container\">\n",
              "    <div>\n",
              "<style scoped>\n",
              "    .dataframe tbody tr th:only-of-type {\n",
              "        vertical-align: middle;\n",
              "    }\n",
              "\n",
              "    .dataframe tbody tr th {\n",
              "        vertical-align: top;\n",
              "    }\n",
              "\n",
              "    .dataframe thead th {\n",
              "        text-align: right;\n",
              "    }\n",
              "</style>\n",
              "<table border=\"1\" class=\"dataframe\">\n",
              "  <thead>\n",
              "    <tr style=\"text-align: right;\">\n",
              "      <th></th>\n",
              "      <th>VOCAB_SIZE:10000 WIN_SIZE:1000 WIN_HOP:200 Sec_Dence:True</th>\n",
              "      <th>VOCAB_SIZE:10000 WIN_SIZE:1000 WIN_HOP:200 Sec_Dence:False</th>\n",
              "      <th>VOCAB_SIZE:10000 WIN_SIZE:1000 WIN_HOP:500 Sec_Dence:True</th>\n",
              "      <th>VOCAB_SIZE:10000 WIN_SIZE:1000 WIN_HOP:500 Sec_Dence:False</th>\n",
              "      <th>VOCAB_SIZE:10000 WIN_SIZE:2000 WIN_HOP:200 Sec_Dence:True</th>\n",
              "      <th>VOCAB_SIZE:10000 WIN_SIZE:2000 WIN_HOP:200 Sec_Dence:False</th>\n",
              "      <th>VOCAB_SIZE:10000 WIN_SIZE:2000 WIN_HOP:500 Sec_Dence:True</th>\n",
              "      <th>VOCAB_SIZE:10000 WIN_SIZE:2000 WIN_HOP:500 Sec_Dence:False</th>\n",
              "      <th>VOCAB_SIZE:15000 WIN_SIZE:1000 WIN_HOP:200 Sec_Dence:True</th>\n",
              "      <th>VOCAB_SIZE:15000 WIN_SIZE:1000 WIN_HOP:200 Sec_Dence:False</th>\n",
              "      <th>VOCAB_SIZE:15000 WIN_SIZE:1000 WIN_HOP:500 Sec_Dence:True</th>\n",
              "      <th>VOCAB_SIZE:15000 WIN_SIZE:1000 WIN_HOP:500 Sec_Dence:False</th>\n",
              "      <th>VOCAB_SIZE:15000 WIN_SIZE:2000 WIN_HOP:200 Sec_Dence:True</th>\n",
              "      <th>VOCAB_SIZE:15000 WIN_SIZE:2000 WIN_HOP:200 Sec_Dence:False</th>\n",
              "      <th>VOCAB_SIZE:15000 WIN_SIZE:2000 WIN_HOP:500 Sec_Dence:True</th>\n",
              "      <th>VOCAB_SIZE:15000 WIN_SIZE:2000 WIN_HOP:500 Sec_Dence:False</th>\n",
              "    </tr>\n",
              "  </thead>\n",
              "  <tbody>\n",
              "    <tr>\n",
              "      <th>loss</th>\n",
              "      <td>0.000608</td>\n",
              "      <td>0.001331</td>\n",
              "      <td>0.003493</td>\n",
              "      <td>0.003533</td>\n",
              "      <td>0.000755</td>\n",
              "      <td>0.000597</td>\n",
              "      <td>0.005794</td>\n",
              "      <td>0.002699</td>\n",
              "      <td>0.003971</td>\n",
              "      <td>0.000722</td>\n",
              "      <td>0.002423</td>\n",
              "      <td>0.002243</td>\n",
              "      <td>0.135027</td>\n",
              "      <td>0.000298</td>\n",
              "      <td>0.002739</td>\n",
              "      <td>0.003418</td>\n",
              "    </tr>\n",
              "    <tr>\n",
              "      <th>accuracy</th>\n",
              "      <td>1.000000</td>\n",
              "      <td>1.000000</td>\n",
              "      <td>1.000000</td>\n",
              "      <td>1.000000</td>\n",
              "      <td>1.000000</td>\n",
              "      <td>1.000000</td>\n",
              "      <td>1.000000</td>\n",
              "      <td>1.000000</td>\n",
              "      <td>1.000000</td>\n",
              "      <td>1.000000</td>\n",
              "      <td>1.000000</td>\n",
              "      <td>1.000000</td>\n",
              "      <td>0.979527</td>\n",
              "      <td>1.000000</td>\n",
              "      <td>1.000000</td>\n",
              "      <td>1.000000</td>\n",
              "    </tr>\n",
              "    <tr>\n",
              "      <th>val_loss</th>\n",
              "      <td>0.345793</td>\n",
              "      <td>0.358687</td>\n",
              "      <td>0.413964</td>\n",
              "      <td>0.360254</td>\n",
              "      <td>0.269882</td>\n",
              "      <td>0.271912</td>\n",
              "      <td>0.282623</td>\n",
              "      <td>0.299893</td>\n",
              "      <td>0.363712</td>\n",
              "      <td>0.347029</td>\n",
              "      <td>0.412551</td>\n",
              "      <td>0.348753</td>\n",
              "      <td>0.411632</td>\n",
              "      <td>0.240636</td>\n",
              "      <td>0.305666</td>\n",
              "      <td>0.356741</td>\n",
              "    </tr>\n",
              "    <tr>\n",
              "      <th>val_accuracy</th>\n",
              "      <td>0.891148</td>\n",
              "      <td>0.886663</td>\n",
              "      <td>0.881343</td>\n",
              "      <td>0.897015</td>\n",
              "      <td>0.926071</td>\n",
              "      <td>0.930597</td>\n",
              "      <td>0.941265</td>\n",
              "      <td>0.922440</td>\n",
              "      <td>0.895634</td>\n",
              "      <td>0.899222</td>\n",
              "      <td>0.885075</td>\n",
              "      <td>0.912687</td>\n",
              "      <td>0.929089</td>\n",
              "      <td>0.937538</td>\n",
              "      <td>0.928464</td>\n",
              "      <td>0.929217</td>\n",
              "    </tr>\n",
              "  </tbody>\n",
              "</table>\n",
              "</div>\n",
              "    <div class=\"colab-df-buttons\">\n",
              "\n",
              "  <div class=\"colab-df-container\">\n",
              "    <button class=\"colab-df-convert\" onclick=\"convertToInteractive('df-e18e9533-88bd-4efa-ae29-be6b275458a1')\"\n",
              "            title=\"Convert this dataframe to an interactive table.\"\n",
              "            style=\"display:none;\">\n",
              "\n",
              "  <svg xmlns=\"http://www.w3.org/2000/svg\" height=\"24px\" viewBox=\"0 -960 960 960\">\n",
              "    <path d=\"M120-120v-720h720v720H120Zm60-500h600v-160H180v160Zm220 220h160v-160H400v160Zm0 220h160v-160H400v160ZM180-400h160v-160H180v160Zm440 0h160v-160H620v160ZM180-180h160v-160H180v160Zm440 0h160v-160H620v160Z\"/>\n",
              "  </svg>\n",
              "    </button>\n",
              "\n",
              "  <style>\n",
              "    .colab-df-container {\n",
              "      display:flex;\n",
              "      gap: 12px;\n",
              "    }\n",
              "\n",
              "    .colab-df-convert {\n",
              "      background-color: #E8F0FE;\n",
              "      border: none;\n",
              "      border-radius: 50%;\n",
              "      cursor: pointer;\n",
              "      display: none;\n",
              "      fill: #1967D2;\n",
              "      height: 32px;\n",
              "      padding: 0 0 0 0;\n",
              "      width: 32px;\n",
              "    }\n",
              "\n",
              "    .colab-df-convert:hover {\n",
              "      background-color: #E2EBFA;\n",
              "      box-shadow: 0px 1px 2px rgba(60, 64, 67, 0.3), 0px 1px 3px 1px rgba(60, 64, 67, 0.15);\n",
              "      fill: #174EA6;\n",
              "    }\n",
              "\n",
              "    .colab-df-buttons div {\n",
              "      margin-bottom: 4px;\n",
              "    }\n",
              "\n",
              "    [theme=dark] .colab-df-convert {\n",
              "      background-color: #3B4455;\n",
              "      fill: #D2E3FC;\n",
              "    }\n",
              "\n",
              "    [theme=dark] .colab-df-convert:hover {\n",
              "      background-color: #434B5C;\n",
              "      box-shadow: 0px 1px 3px 1px rgba(0, 0, 0, 0.15);\n",
              "      filter: drop-shadow(0px 1px 2px rgba(0, 0, 0, 0.3));\n",
              "      fill: #FFFFFF;\n",
              "    }\n",
              "  </style>\n",
              "\n",
              "    <script>\n",
              "      const buttonEl =\n",
              "        document.querySelector('#df-e18e9533-88bd-4efa-ae29-be6b275458a1 button.colab-df-convert');\n",
              "      buttonEl.style.display =\n",
              "        google.colab.kernel.accessAllowed ? 'block' : 'none';\n",
              "\n",
              "      async function convertToInteractive(key) {\n",
              "        const element = document.querySelector('#df-e18e9533-88bd-4efa-ae29-be6b275458a1');\n",
              "        const dataTable =\n",
              "          await google.colab.kernel.invokeFunction('convertToInteractive',\n",
              "                                                    [key], {});\n",
              "        if (!dataTable) return;\n",
              "\n",
              "        const docLinkHtml = 'Like what you see? Visit the ' +\n",
              "          '<a target=\"_blank\" href=https://colab.research.google.com/notebooks/data_table.ipynb>data table notebook</a>'\n",
              "          + ' to learn more about interactive tables.';\n",
              "        element.innerHTML = '';\n",
              "        dataTable['output_type'] = 'display_data';\n",
              "        await google.colab.output.renderOutput(dataTable, element);\n",
              "        const docLink = document.createElement('div');\n",
              "        docLink.innerHTML = docLinkHtml;\n",
              "        element.appendChild(docLink);\n",
              "      }\n",
              "    </script>\n",
              "  </div>\n",
              "\n",
              "\n",
              "<div id=\"df-dde3db1c-d599-4389-a845-d9cce6922070\">\n",
              "  <button class=\"colab-df-quickchart\" onclick=\"quickchart('df-dde3db1c-d599-4389-a845-d9cce6922070')\"\n",
              "            title=\"Suggest charts\"\n",
              "            style=\"display:none;\">\n",
              "\n",
              "<svg xmlns=\"http://www.w3.org/2000/svg\" height=\"24px\"viewBox=\"0 0 24 24\"\n",
              "     width=\"24px\">\n",
              "    <g>\n",
              "        <path d=\"M19 3H5c-1.1 0-2 .9-2 2v14c0 1.1.9 2 2 2h14c1.1 0 2-.9 2-2V5c0-1.1-.9-2-2-2zM9 17H7v-7h2v7zm4 0h-2V7h2v10zm4 0h-2v-4h2v4z\"/>\n",
              "    </g>\n",
              "</svg>\n",
              "  </button>\n",
              "\n",
              "<style>\n",
              "  .colab-df-quickchart {\n",
              "      --bg-color: #E8F0FE;\n",
              "      --fill-color: #1967D2;\n",
              "      --hover-bg-color: #E2EBFA;\n",
              "      --hover-fill-color: #174EA6;\n",
              "      --disabled-fill-color: #AAA;\n",
              "      --disabled-bg-color: #DDD;\n",
              "  }\n",
              "\n",
              "  [theme=dark] .colab-df-quickchart {\n",
              "      --bg-color: #3B4455;\n",
              "      --fill-color: #D2E3FC;\n",
              "      --hover-bg-color: #434B5C;\n",
              "      --hover-fill-color: #FFFFFF;\n",
              "      --disabled-bg-color: #3B4455;\n",
              "      --disabled-fill-color: #666;\n",
              "  }\n",
              "\n",
              "  .colab-df-quickchart {\n",
              "    background-color: var(--bg-color);\n",
              "    border: none;\n",
              "    border-radius: 50%;\n",
              "    cursor: pointer;\n",
              "    display: none;\n",
              "    fill: var(--fill-color);\n",
              "    height: 32px;\n",
              "    padding: 0;\n",
              "    width: 32px;\n",
              "  }\n",
              "\n",
              "  .colab-df-quickchart:hover {\n",
              "    background-color: var(--hover-bg-color);\n",
              "    box-shadow: 0 1px 2px rgba(60, 64, 67, 0.3), 0 1px 3px 1px rgba(60, 64, 67, 0.15);\n",
              "    fill: var(--button-hover-fill-color);\n",
              "  }\n",
              "\n",
              "  .colab-df-quickchart-complete:disabled,\n",
              "  .colab-df-quickchart-complete:disabled:hover {\n",
              "    background-color: var(--disabled-bg-color);\n",
              "    fill: var(--disabled-fill-color);\n",
              "    box-shadow: none;\n",
              "  }\n",
              "\n",
              "  .colab-df-spinner {\n",
              "    border: 2px solid var(--fill-color);\n",
              "    border-color: transparent;\n",
              "    border-bottom-color: var(--fill-color);\n",
              "    animation:\n",
              "      spin 1s steps(1) infinite;\n",
              "  }\n",
              "\n",
              "  @keyframes spin {\n",
              "    0% {\n",
              "      border-color: transparent;\n",
              "      border-bottom-color: var(--fill-color);\n",
              "      border-left-color: var(--fill-color);\n",
              "    }\n",
              "    20% {\n",
              "      border-color: transparent;\n",
              "      border-left-color: var(--fill-color);\n",
              "      border-top-color: var(--fill-color);\n",
              "    }\n",
              "    30% {\n",
              "      border-color: transparent;\n",
              "      border-left-color: var(--fill-color);\n",
              "      border-top-color: var(--fill-color);\n",
              "      border-right-color: var(--fill-color);\n",
              "    }\n",
              "    40% {\n",
              "      border-color: transparent;\n",
              "      border-right-color: var(--fill-color);\n",
              "      border-top-color: var(--fill-color);\n",
              "    }\n",
              "    60% {\n",
              "      border-color: transparent;\n",
              "      border-right-color: var(--fill-color);\n",
              "    }\n",
              "    80% {\n",
              "      border-color: transparent;\n",
              "      border-right-color: var(--fill-color);\n",
              "      border-bottom-color: var(--fill-color);\n",
              "    }\n",
              "    90% {\n",
              "      border-color: transparent;\n",
              "      border-bottom-color: var(--fill-color);\n",
              "    }\n",
              "  }\n",
              "</style>\n",
              "\n",
              "  <script>\n",
              "    async function quickchart(key) {\n",
              "      const quickchartButtonEl =\n",
              "        document.querySelector('#' + key + ' button');\n",
              "      quickchartButtonEl.disabled = true;  // To prevent multiple clicks.\n",
              "      quickchartButtonEl.classList.add('colab-df-spinner');\n",
              "      try {\n",
              "        const charts = await google.colab.kernel.invokeFunction(\n",
              "            'suggestCharts', [key], {});\n",
              "      } catch (error) {\n",
              "        console.error('Error during call to suggestCharts:', error);\n",
              "      }\n",
              "      quickchartButtonEl.classList.remove('colab-df-spinner');\n",
              "      quickchartButtonEl.classList.add('colab-df-quickchart-complete');\n",
              "    }\n",
              "    (() => {\n",
              "      let quickchartButtonEl =\n",
              "        document.querySelector('#df-dde3db1c-d599-4389-a845-d9cce6922070 button');\n",
              "      quickchartButtonEl.style.display =\n",
              "        google.colab.kernel.accessAllowed ? 'block' : 'none';\n",
              "    })();\n",
              "  </script>\n",
              "</div>\n",
              "    </div>\n",
              "  </div>\n"
            ],
            "text/plain": [
              "              VOCAB_SIZE:10000 WIN_SIZE:1000 WIN_HOP:200 Sec_Dence:True  \\\n",
              "loss                                                   0.000608           \n",
              "accuracy                                               1.000000           \n",
              "val_loss                                               0.345793           \n",
              "val_accuracy                                           0.891148           \n",
              "\n",
              "              VOCAB_SIZE:10000 WIN_SIZE:1000 WIN_HOP:200 Sec_Dence:False  \\\n",
              "loss                                                   0.001331            \n",
              "accuracy                                               1.000000            \n",
              "val_loss                                               0.358687            \n",
              "val_accuracy                                           0.886663            \n",
              "\n",
              "              VOCAB_SIZE:10000 WIN_SIZE:1000 WIN_HOP:500 Sec_Dence:True  \\\n",
              "loss                                                   0.003493           \n",
              "accuracy                                               1.000000           \n",
              "val_loss                                               0.413964           \n",
              "val_accuracy                                           0.881343           \n",
              "\n",
              "              VOCAB_SIZE:10000 WIN_SIZE:1000 WIN_HOP:500 Sec_Dence:False  \\\n",
              "loss                                                   0.003533            \n",
              "accuracy                                               1.000000            \n",
              "val_loss                                               0.360254            \n",
              "val_accuracy                                           0.897015            \n",
              "\n",
              "              VOCAB_SIZE:10000 WIN_SIZE:2000 WIN_HOP:200 Sec_Dence:True  \\\n",
              "loss                                                   0.000755           \n",
              "accuracy                                               1.000000           \n",
              "val_loss                                               0.269882           \n",
              "val_accuracy                                           0.926071           \n",
              "\n",
              "              VOCAB_SIZE:10000 WIN_SIZE:2000 WIN_HOP:200 Sec_Dence:False  \\\n",
              "loss                                                   0.000597            \n",
              "accuracy                                               1.000000            \n",
              "val_loss                                               0.271912            \n",
              "val_accuracy                                           0.930597            \n",
              "\n",
              "              VOCAB_SIZE:10000 WIN_SIZE:2000 WIN_HOP:500 Sec_Dence:True  \\\n",
              "loss                                                   0.005794           \n",
              "accuracy                                               1.000000           \n",
              "val_loss                                               0.282623           \n",
              "val_accuracy                                           0.941265           \n",
              "\n",
              "              VOCAB_SIZE:10000 WIN_SIZE:2000 WIN_HOP:500 Sec_Dence:False  \\\n",
              "loss                                                   0.002699            \n",
              "accuracy                                               1.000000            \n",
              "val_loss                                               0.299893            \n",
              "val_accuracy                                           0.922440            \n",
              "\n",
              "              VOCAB_SIZE:15000 WIN_SIZE:1000 WIN_HOP:200 Sec_Dence:True  \\\n",
              "loss                                                   0.003971           \n",
              "accuracy                                               1.000000           \n",
              "val_loss                                               0.363712           \n",
              "val_accuracy                                           0.895634           \n",
              "\n",
              "              VOCAB_SIZE:15000 WIN_SIZE:1000 WIN_HOP:200 Sec_Dence:False  \\\n",
              "loss                                                   0.000722            \n",
              "accuracy                                               1.000000            \n",
              "val_loss                                               0.347029            \n",
              "val_accuracy                                           0.899222            \n",
              "\n",
              "              VOCAB_SIZE:15000 WIN_SIZE:1000 WIN_HOP:500 Sec_Dence:True  \\\n",
              "loss                                                   0.002423           \n",
              "accuracy                                               1.000000           \n",
              "val_loss                                               0.412551           \n",
              "val_accuracy                                           0.885075           \n",
              "\n",
              "              VOCAB_SIZE:15000 WIN_SIZE:1000 WIN_HOP:500 Sec_Dence:False  \\\n",
              "loss                                                   0.002243            \n",
              "accuracy                                               1.000000            \n",
              "val_loss                                               0.348753            \n",
              "val_accuracy                                           0.912687            \n",
              "\n",
              "              VOCAB_SIZE:15000 WIN_SIZE:2000 WIN_HOP:200 Sec_Dence:True  \\\n",
              "loss                                                   0.135027           \n",
              "accuracy                                               0.979527           \n",
              "val_loss                                               0.411632           \n",
              "val_accuracy                                           0.929089           \n",
              "\n",
              "              VOCAB_SIZE:15000 WIN_SIZE:2000 WIN_HOP:200 Sec_Dence:False  \\\n",
              "loss                                                   0.000298            \n",
              "accuracy                                               1.000000            \n",
              "val_loss                                               0.240636            \n",
              "val_accuracy                                           0.937538            \n",
              "\n",
              "              VOCAB_SIZE:15000 WIN_SIZE:2000 WIN_HOP:500 Sec_Dence:True  \\\n",
              "loss                                                   0.002739           \n",
              "accuracy                                               1.000000           \n",
              "val_loss                                               0.305666           \n",
              "val_accuracy                                           0.928464           \n",
              "\n",
              "              VOCAB_SIZE:15000 WIN_SIZE:2000 WIN_HOP:500 Sec_Dence:False  \n",
              "loss                                                   0.003418           \n",
              "accuracy                                               1.000000           \n",
              "val_loss                                               0.356741           \n",
              "val_accuracy                                           0.929217           "
            ]
          },
          "execution_count": 15,
          "metadata": {},
          "output_type": "execute_result"
        }
      ],
      "source": [
        "table"
      ]
    }
  ],
  "metadata": {
    "accelerator": "GPU",
    "colab": {
      "provenance": []
    },
    "gpuClass": "standard",
    "kernelspec": {
      "display_name": "Python 3",
      "name": "python3"
    },
    "language_info": {
      "name": "python"
    }
  },
  "nbformat": 4,
  "nbformat_minor": 0
}
