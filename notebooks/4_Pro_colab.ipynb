{
  "cells": [
    {
      "cell_type": "markdown",
      "metadata": {
        "id": "3hahJ-ONkfmR"
      },
      "source": [
        "Дорогой студент!\n",
        "\n",
        "В данном домашнем задании предоставляется возможность поработать с задачей по распознаванию позитивных и негативных отзывы людей по автомобилю Tesla. База для обучения содержит два текстовых файла с рядом строчных отзывов с мнением людей об автомобиле Tesla, соответственно негативного и позитивного содержания. Ссылка на скачивание базы уже включена в ноутбук задания.\n",
        "\n",
        "\n",
        "Необходимо выполнить следующие действия:\n",
        "\n",
        "  1. Загрузите саму базу по ссылке и подговьте файлы базы для обработки.\n",
        "  2. Создайте обучающую и проверочную выборки, обратив особое внимание на балансировку базы: количество примеров каждого класса должно быть примерно одного порядка.\n",
        "  3. Подготовьте выборки для обучения и обучите сеть. Добейтесь результата точности сети в 85-90% на проверочной выборке.\n",
        "   \n"
      ]
    },
    {
      "cell_type": "markdown",
      "metadata": {
        "id": "PUN4KxIPuUmM"
      },
      "source": [
        "**Импорт библиотек, загрузка базы и подготовка её к предобработке.**"
      ]
    },
    {
      "cell_type": "code",
      "execution_count": 1,
      "metadata": {
        "id": "xOYjMYA5bQD5"
      },
      "outputs": [],
      "source": [
        "# Работа с массивами данных\n",
        "import numpy as np\n",
        "# Отрисовка графиков\n",
        "import matplotlib.pyplot as plt\n",
        "import tensorflow as tf\n",
        "# Для работы с файлами в Colaboratory\n",
        "import os\n",
        "# Функции-утилиты для работы с категориальными данными\n",
        "from tensorflow.keras import utils\n",
        "# Класс для конструирования последовательной модели нейронной сети\n",
        "from tensorflow.keras.models import Sequential\n",
        "# Основные слои\n",
        "from tensorflow.keras.layers import Dense, Dropout, BatchNormalization\n",
        "# Токенизатор для преобразование текстов в последовательности\n",
        "from tensorflow.keras.preprocessing.text import Tokenizer\n",
        "# Заполнение последовательностей до определенной длины\n",
        "from tensorflow.keras.layers import Dropout\n",
        "from tensorflow.keras.regularizers import l2\n",
        "\n",
        "%matplotlib inline"
      ]
    },
    {
      "cell_type": "code",
      "execution_count": 2,
      "metadata": {},
      "outputs": [],
      "source": [
        "# Загрузка датасетов из облака google\n",
        "import gdown"
      ]
    },
    {
      "cell_type": "markdown",
      "metadata": {},
      "source": [
        "### Установка сида"
      ]
    },
    {
      "cell_type": "code",
      "execution_count": 3,
      "metadata": {},
      "outputs": [],
      "source": [
        "SEED = 52\n",
        "os.environ['PYTHONHASHSEED']=str(SEED)\n",
        "os.environ['TF_CUDNN_DETERMINISTIC'] = '1'\n",
        "np.random.seed(SEED)\n",
        "tf.random.set_seed(SEED)"
      ]
    },
    {
      "cell_type": "code",
      "execution_count": 4,
      "metadata": {
        "colab": {
          "base_uri": "https://localhost:8080/",
          "height": 35
        },
        "id": "pBys9ajOW43u",
        "outputId": "a148db2c-3d4a-4513-d5f8-fdce3688c489"
      },
      "outputs": [
        {
          "data": {
            "application/vnd.google.colaboratory.intrinsic+json": {
              "type": "string"
            },
            "text/plain": [
              "'tesla.zip'"
            ]
          },
          "execution_count": 5,
          "metadata": {},
          "output_type": "execute_result"
        }
      ],
      "source": [
        "gdown.download('https://storage.yandexcloud.net/aiueducation/Content/base/l7/tesla.zip', None, quiet=True)"
      ]
    },
    {
      "cell_type": "markdown",
      "metadata": {
        "id": "Poe5lbs7ulKQ"
      },
      "source": [
        "**Деление общей базы отзывов на данные для обучения и проверки.**"
      ]
    },
    {
      "cell_type": "code",
      "execution_count": 6,
      "metadata": {
        "colab": {
          "base_uri": "https://localhost:8080/"
        },
        "id": "bBgC28cgulnc",
        "outputId": "91a44bd7-bfc9-45c8-8ed1-a86a53ee81d7"
      },
      "outputs": [
        {
          "name": "stdout",
          "output_type": "stream",
          "text": [
            "'Негативный отзыв.txt'\t'Позитивный отзыв.txt'\n"
          ]
        }
      ],
      "source": [
        "# Распаковка архива в папку writers\n",
        "!unzip -qo tesla.zip -d tesla/\n",
        "\n",
        "# Просмотр содержимого папки\n",
        "!ls tesla"
      ]
    },
    {
      "cell_type": "markdown",
      "metadata": {
        "id": "o7VsrwF92JDM"
      },
      "source": [
        "**Загрузка текста из файлов, преобразование в одну строку.**"
      ]
    },
    {
      "cell_type": "code",
      "execution_count": 7,
      "metadata": {
        "id": "tHELyvOvzRBI"
      },
      "outputs": [],
      "source": [
        "# Объявляем функции для чтения файла. На вход отправляем путь к файлу\n",
        "def read_text(file_name):\n",
        "\n",
        "  # Задаем открытие нужного файла в режиме чтения\n",
        "  read_file = open(file_name, 'r')\n",
        "\n",
        "  # Читаем текст\n",
        "  text = read_file.read()\n",
        "\n",
        "  # Переносы строки переводим в пробелы\n",
        "  text = text.replace(\"\\n\", \" \")\n",
        "\n",
        "  # Возвращаем текст файла\n",
        "  return text\n",
        "\n",
        "# Объявляем интересующие нас классы\n",
        "class_names = [\"Негативный отзыв\", \"Позитивный отзыв\"]\n",
        "\n",
        "# Считаем количество классов\n",
        "num_classes = len(class_names)"
      ]
    },
    {
      "cell_type": "markdown",
      "metadata": {
        "id": "ih6e6VfO2o_t"
      },
      "source": [
        "### Тексты в один список"
      ]
    },
    {
      "cell_type": "code",
      "execution_count": 8,
      "metadata": {
        "colab": {
          "base_uri": "https://localhost:8080/"
        },
        "id": "9w4V4ztFznbG",
        "outputId": "c8dcd3f7-4e15-403d-e39a-cf9a7dac7772"
      },
      "outputs": [
        {
          "name": "stdout",
          "output_type": "stream",
          "text": [
            "Негативный отзыв.txt добавлен в обучающую выборку\n",
            "Позитивный отзыв.txt добавлен в обучающую выборку\n"
          ]
        }
      ],
      "source": [
        "import os\n",
        "# Создаём список под тексты для обучающей выборки\n",
        "texts_list = []\n",
        "\n",
        "# Циклом проводим итерацию по текстовым файлам в папке отзывов\n",
        "for j in os.listdir('/content/tesla/'):\n",
        "\n",
        "  # Добавляем каждый файл в общий список для выборки\n",
        "        texts_list.append(read_text('/content/tesla/' + j))\n",
        "\n",
        "        # Выводим на экран сообщение о добавлении файла\n",
        "        print(j, 'добавлен в обучающую выборку')"
      ]
    },
    {
      "cell_type": "markdown",
      "metadata": {},
      "source": [
        "### Объем текстов"
      ]
    },
    {
      "cell_type": "code",
      "execution_count": 9,
      "metadata": {
        "colab": {
          "base_uri": "https://localhost:8080/"
        },
        "id": "rvvdNpt40jRY",
        "outputId": "79c15912-63aa-4248-dc1f-edc479ce844d"
      },
      "outputs": [
        {
          "name": "stdout",
          "output_type": "stream",
          "text": [
            "Размеры текстов по порядку (в токенах):\n",
            "Текст №1: 134535\n",
            "Текст №2: 213381\n"
          ]
        }
      ],
      "source": [
        "# Узнаем объём каждого текста в словах и символах\n",
        "texts_len = [len(text) for text in texts_list]\n",
        "\n",
        "# Устанавливаем \"счётчик\" номера текста\n",
        "t_num = 0\n",
        "\n",
        "# Выводим на экран  информационное сообщение\n",
        "print(f'Размеры текстов по порядку (в токенах):')\n",
        "\n",
        "# Циклом проводим итерацию по списку с объёмами текстов\n",
        "for text_len in texts_len:\n",
        "\n",
        "  # Запускаем \"счётчик\" номера текста\n",
        "  t_num += 1\n",
        "\n",
        "  # Выводим на экран сообщение о номере и объёме текста\n",
        "  print(f'Текст №{t_num}: {text_len}')"
      ]
    },
    {
      "cell_type": "markdown",
      "metadata": {
        "id": "lpAQS_wB24TT"
      },
      "source": [
        "Далее рассчитаем, сколько символов составит 80% объёма каждого текста, чтобы по полученному индексу отделить эти 80% на обучающую и оставшиеся 20% на проверочную выборку. Эти значения необходимы для подготовки деления на выборки слайсингом по индексу."
      ]
    },
    {
      "cell_type": "code",
      "execution_count": 10,
      "metadata": {
        "colab": {
          "base_uri": "https://localhost:8080/"
        },
        "id": "0ur3bkOd3UTQ",
        "outputId": "45b607ea-4c74-4db5-cbfa-aaf728c7ec2c"
      },
      "outputs": [
        {
          "name": "stdout",
          "output_type": "stream",
          "text": [
            "Доля 80% от текста №1: 107628 символов\n",
            "Доля 80% от текста №2: 170705 символов\n"
          ]
        }
      ],
      "source": [
        "# Создаём список с вложенным циклом по длинам текстов, где i - 100% текста, i/5 - 20% текста\n",
        "train_len_shares = [(i - round(i/5)) for i in texts_len]\n",
        "\n",
        "# Устанавливаем \"счётчик\" номера текста\n",
        "t_num = 0\n",
        "\n",
        "# Циклом проводим итерацию по списку с объёмами текстов равными 80% от исходных\n",
        "for train_len_share in train_len_shares:\n",
        "\n",
        "  # Запускаем \"счётчик\" номера текста\n",
        "  t_num += 1\n",
        "\n",
        "  # Выводим на экран сообщение о номере и объёме текста в 80% от исходного\n",
        "  print(f'Доля 80% от текста №{t_num}: {train_len_share} символов')"
      ]
    },
    {
      "cell_type": "markdown",
      "metadata": {
        "id": "rVHFObMz5RsH"
      },
      "source": [
        "Импортируем функцию **chain()** для добавления текстов в каждую выборку.\n",
        "\n",
        "---\n",
        " Дополнительная информация: ([База знаний УИИ  - **\"Методы работы со списками: функция chain( )**\"](https://colab.research.google.com/drive/1KJKg_WYD8Vq63cciOMBEEAhFpyPv0A0V?usp=sharing/))\n",
        "\n",
        "---\n",
        "\n",
        "Производём нарезку (метод слайсинга) по полученному ранее индексу для формирования текстов отдельно для обучающей(80%) и проверочной(20%) выборок:"
      ]
    },
    {
      "cell_type": "code",
      "execution_count": 11,
      "metadata": {
        "id": "um_NZc9pzAXc"
      },
      "outputs": [],
      "source": [
        "# Создаем список для обучающих и проверочных выборок\n",
        "train_texts = []\n",
        "val_texts = []\n",
        "\n",
        "# Циклом проводим итерацию по списку с текстами и их индексами\n",
        "for text, train_len_share in zip(texts_list, train_len_shares):\n",
        "    # Нарезаем тексты на обучающие и проверочные выборки\n",
        "    train_text = text[:train_len_share]\n",
        "    val_text = text[train_len_share:]\n",
        "\n",
        "    # Добавляем тексты в соответствующие списки\n",
        "    train_texts.append(train_text)\n",
        "    val_texts.append(val_text)"
      ]
    },
    {
      "cell_type": "markdown",
      "metadata": {},
      "source": [
        "### Использование токенайзера"
      ]
    },
    {
      "cell_type": "code",
      "execution_count": 12,
      "metadata": {
        "id": "b3UdB047glrW"
      },
      "outputs": [],
      "source": [
        "maxWordsCount = 15000\n",
        "tokenizer = Tokenizer(num_words=maxWordsCount, filters='!\"#$%&()*+,-–—./…:;<=>?@[\\\\]^_`{|}~«»\\t\\n\\xa0\\ufeff', lower=True, split=' ', oov_token='unknown', char_level=False)\n",
        "\n",
        "tokenizer.fit_on_texts(train_texts) # словарь частотности\n",
        "items = list(tokenizer.word_index.items())"
      ]
    },
    {
      "cell_type": "code",
      "execution_count": 13,
      "metadata": {
        "colab": {
          "base_uri": "https://localhost:8080/"
        },
        "id": "zrRznAQKgvjc",
        "outputId": "1021dc52-7ff2-43ed-a3f7-621ca03e1a72"
      },
      "outputs": [
        {
          "name": "stdout",
          "output_type": "stream",
          "text": [
            "Взглянем на фрагмент обучающего текста:\n",
            "В виде оригинального текста:                Водитель наслаждается от такого авто и вождения  Красивая машина нужно брать  Тесла то\n",
            "Он же в виде последовательности индексов:  [1188, 6611, 27, 270, 23, 2, 811, 201, 14, 80, 273, 9, 443, 6612, 27, 183, 502, 1001, 380, 1122] \n",
            "\n"
          ]
        }
      ],
      "source": [
        "# Преобразовываем текст в последовательность индексов согласно частотному словарю\n",
        "trainWordIndexes = tokenizer.texts_to_sequences(train_texts) # Обучающие тесты в индексы\n",
        "testWordIndexes = tokenizer.texts_to_sequences(val_texts)  # Проверочные тесты в индексы\n",
        "\n",
        "print(\"Взглянем на фрагмент обучающего текста:\")\n",
        "print(\"В виде оригинального текста:              \", train_texts[1][:87])\n",
        "print(\"Он же в виде последовательности индексов: \", trainWordIndexes[1][:20], '\\n')"
      ]
    },
    {
      "cell_type": "markdown",
      "metadata": {},
      "source": [
        "### Подсчет символов выборок"
      ]
    },
    {
      "cell_type": "code",
      "execution_count": 14,
      "metadata": {
        "colab": {
          "base_uri": "https://localhost:8080/"
        },
        "id": "dhIHQDXXg8c-",
        "outputId": "db4a0215-60d0-4af6-de24-3f6aa1b2e3d1"
      },
      "outputs": [
        {
          "name": "stdout",
          "output_type": "stream",
          "text": [
            "Статистика по обучающим текстам:\n",
            "Негативный отзыв  107628 символов,  16924 слов\n",
            "Позитивный отзыв  170705 символов,  25769 слов\n",
            "----\n",
            "В сумме  278333  символов,  42693  слов \n",
            "\n",
            "\n",
            "Статистика по тестовым текстам:\n",
            "Негативный отзыв  26907 символов,  4330 слов\n",
            "Позитивный отзыв  42676 символов,  6591 слов\n",
            "----\n",
            "В сумме  69583  символов,  10921  слов\n"
          ]
        }
      ],
      "source": [
        "nClasses = len(class_names)\n",
        "print(\"Статистика по обучающим текстам:\")\n",
        "\n",
        "symbolsTrainText = 0 # Объявляем переменную для подсчета символов в обучающих текстах\n",
        "wordsTrainText = 0 # Объявляем переменную для подсчета слов в обучающих текстах\n",
        "\n",
        "for i in range(nClasses): # Проходим по всем классам\n",
        "  print(class_names[i], \" \"*(10-len(class_names[i])), len(train_texts[i]), \"символов, \", len(trainWordIndexes[i]), \"слов\")\n",
        "  symbolsTrainText += len(train_texts[i]) # Считаем символы\n",
        "  wordsTrainText += len(trainWordIndexes[i]) # Считаем слова\n",
        "\n",
        "print('----')\n",
        "print(\"В сумме \", symbolsTrainText, \" символов, \", wordsTrainText, \" слов \\n\")\n",
        "print()\n",
        "print(\"Статистика по тестовым текстам:\")\n",
        "\n",
        "symbolsTestText = 0 # Объявляем переменную для подсчета символов в тестовых текстах\n",
        "wordsTestText = 0 # Объявляем переменную для подсчета слов в тестовых текстах\n",
        "\n",
        "for i in range(nClasses): #Проходим по всем классам\n",
        "  print(class_names[i], ' '*(10-len(class_names[i])), len(val_texts[i]), \"символов, \", len(testWordIndexes[i]), \"слов\")\n",
        "  symbolsTestText += len(val_texts[i]) #Считаем символы\n",
        "  wordsTestText += len(testWordIndexes[i]) #Считаем слова\n",
        "print('----')\n",
        "print(\"В сумме \", symbolsTestText, \" символов, \", wordsTestText, \" слов\")"
      ]
    },
    {
      "cell_type": "markdown",
      "metadata": {},
      "source": [
        "### Базовые параметры"
      ]
    },
    {
      "cell_type": "code",
      "execution_count": 15,
      "metadata": {
        "id": "BHDS8k_3jevj"
      },
      "outputs": [],
      "source": [
        "# Базовые параметры\n",
        "xLen = 500 # Длина отрезка текста, по которой анализируем, в словах\n",
        "step = 400 # Шаг разбиения исходного текста на обучающие векторы\n",
        "epo = 25 # Число эпох обучения"
      ]
    },
    {
      "cell_type": "markdown",
      "metadata": {},
      "source": [
        "### Формирование обучающей выборки по листу индексов слов"
      ]
    },
    {
      "cell_type": "code",
      "execution_count": 16,
      "metadata": {
        "id": "R4GLbVzljRXa"
      },
      "outputs": [],
      "source": [
        "# Формирование обучающей выборки по листу индексов слов\n",
        "# (разделение на короткие векторы)\n",
        "def getSetFromIndexes(wordIndexes, xLen, step): # функция принимает последовательность индексов, размер окна, шаг окна\n",
        "  xSample = [] # Объявляем переменную для векторов\n",
        "  wordsLen = len(wordIndexes) # Считаем количество слов\n",
        "  index = 0 # Задаем начальный индекс\n",
        "\n",
        "  while (index + xLen <= wordsLen):# Идём по всей длине вектора индексов\n",
        "    xSample.append(wordIndexes[index:index+xLen]) # \"Откусываем\" векторы длины xLen\n",
        "    index += step # Смещаеммся вперёд на step\n",
        "\n",
        "  return xSample"
      ]
    },
    {
      "cell_type": "code",
      "execution_count": 17,
      "metadata": {
        "id": "XPszNbs9jqy0"
      },
      "outputs": [],
      "source": [
        "# Формирование обучающей и проверочной выборки\n",
        "# Из двух листов индексов от двух классов\n",
        "def createSetsMultiClasses(wordIndexes, xLen, step): # Функция принимает последовательность индексов, размер окна, шаг окна\n",
        "  # Для каждого из 6 классов\n",
        "  # Создаём обучающую/проверочную выборку из индексов\n",
        "  nClasses = len(class_names)\n",
        "  classesXSamples = []\n",
        "  for wI in wordIndexes:      # Для каждого текста выборки из последовательности индексов\n",
        "    classesXSamples.append(getSetFromIndexes(wI, xLen, step)) # Добавляем в список очередной текст индексов, разбитый на \"кол-во окон*длину окна\"\n",
        "\n",
        "  # Формируем один общий xSamples\n",
        "  xSamples = [] # Список размером \"суммарное кол-во окон во всех текстах * длину окна\"\n",
        "  ySamples = [] # Список размером \"суммарное кол-во окон во всех текстах * вектор\"\n",
        "\n",
        "  for t in range(nClasses):\n",
        "    xT = classesXSamples[t]\n",
        "    for i in range(len(xT)): # По каждому окну\n",
        "      xSamples.append(xT[i]) # Добавляем в общий список выборки\n",
        "      ySamples.append(utils.to_categorical(t, nClasses)) # Добавляем соответствующий вектор класса\n",
        "\n",
        "  xSamples = np.array(xSamples) # Переводим в массив numpy для подачи в нейронку\n",
        "  ySamples = np.array(ySamples) # Переводим в массив numpy для подачи в нейронку\n",
        "\n",
        "  return (xSamples, ySamples) #Функция возвращает выборку и соответствующие векторы классов"
      ]
    },
    {
      "cell_type": "markdown",
      "metadata": {},
      "source": [
        "### Извлечение выборок\n",
        "Получили обучающий/тестовый набор, достаточный для запуска Embedding, но для Bag of Words нужно xTrain и xTest представить в виде векторов из 0 и 1"
      ]
    },
    {
      "cell_type": "code",
      "execution_count": 18,
      "metadata": {
        "colab": {
          "base_uri": "https://localhost:8080/"
        },
        "id": "NYGoRkP0jwH2",
        "outputId": "dbeaf954-4240-421f-8979-8ef09abc89b7"
      },
      "outputs": [
        {
          "name": "stdout",
          "output_type": "stream",
          "text": [
            "(106, 500)\n",
            "(106, 2)\n",
            "(26, 500)\n",
            "(26, 2)\n"
          ]
        }
      ],
      "source": [
        "xTrain, yTrain = createSetsMultiClasses(trainWordIndexes, xLen, step) #извлекаем обучающую выборку\n",
        "xTest, yTest = createSetsMultiClasses(testWordIndexes, xLen, step)    #извлекаем тестовую выборку\n",
        "print(xTrain.shape)\n",
        "print(yTrain.shape)\n",
        "print(xTest.shape)\n",
        "print(yTest.shape)"
      ]
    },
    {
      "cell_type": "code",
      "execution_count": 19,
      "metadata": {
        "colab": {
          "base_uri": "https://localhost:8080/"
        },
        "id": "FtZCgi1Nj50i",
        "outputId": "72bc80ce-4e77-4495-a2fb-937ef761e6f1"
      },
      "outputs": [
        {
          "name": "stdout",
          "output_type": "stream",
          "text": [
            "[  99 3823    5  582   46 1624  148 3824  244 3825   20 2226  114    4\n",
            " 3826    6 1260 2227 1261  245  444 3827   11    4   23   21    4 1625\n",
            "   41 2228   62    6  292   11    4   23    6    4   23   11 1626 3828\n",
            "  493 3829   21  327 1627 1627 1627    2   89  583    2  155 1262 2229\n",
            " 2230  494  530 2231  584   93 1628  122 3830  874 1263   29   10 3831\n",
            " 3832 2232    4   80 1629   51   12 2233 2234 3833    2  149  875 3834\n",
            "   35   82   12 2235    2  224    4   34 3835 2232   27  293 2235   42\n",
            " 3836    2 3837  585   44 3838 3839    2  586    5 1630   44 3840 3841\n",
            "  225 2236   90  128 3842    2 3843   12 3844 3845    4   80 1629   51\n",
            "   12 2233    9    6  292  107   26  657  268   12   15   40    2 2237\n",
            "   35 3846 3847  175  531 1631   15  308  587  309 3848    5    4  176\n",
            " 3849 3850  658   37  876    2 3851    7 3852  532    5 1632  445  114\n",
            " 3853 1633 3854  763 3855  764    7 1029  139 1264 3856   12 2238 3857\n",
            " 3858   15  137    4 1030   83  659  310    7   10  588   83 3859   55\n",
            "   76 1634   27 1265    3   54 1635    2   47 3860    2  213   19  400\n",
            "   21 3861   73   21  371   33 3862 3863    5 1632 1266 1031 3864  658\n",
            " 1267 2239    8 3865 3866    4 3867   12   15 2240    8 3868 3869  294\n",
            "  311    5 1632  445  144  877   58 2241    5 3870  533 2242   73   55\n",
            "   15 2243 1268  589    8  532  876  184 1032 1269   33  246   20 1031\n",
            " 2244  658   45  128   29 3871    2    4 3872 3873 3874  164  312 3875\n",
            "    5  765   13  202   26  660 3876   16 3877 1033    2 2245   29   40\n",
            " 3878    5   37  876   20 2246  766 3879    5  342  878   49 3880   49\n",
            " 3881    4 3882  313    2   57  534    8 3883 3884    5 2247 3885 2248\n",
            "  767 3886 3887    4    5  116 3888 3889 1270   83  659  310  226   19\n",
            "  588  149  879   30  401  343 1271 3890  535 1636    2   46 3891   16\n",
            " 3892   19  227 3893 3894  165 1637 3895   71 3896  446 1638    5 1639\n",
            "   21  117 3897    5  344 2249 1272    2 1273 3898    4  661  589 1640\n",
            " 3899    3  171  137   26  447  495 3900   43 2250   65 1274   16  345\n",
            "    8 2251  105  768   10   91  115  402 1275   45  101   69 1276   31\n",
            " 1034   70   12 2250  269 2252   26 2253 3901 1641 1642 1643   12 1035\n",
            " 3902   10   59 3903    8   79   69   34 3904 1638    5 1639  448   16\n",
            " 1644 1036   58 3905   50  328  246   44 1645 3906 3907    2 3908  247\n",
            "    4   34  268   23  156   16  329 3909   52    4   87  769  157  662\n",
            "  880  770    5 1277  403   94 3910 1646  536 3911   29 3912   21 3913\n",
            "  228 3914   11    6 2254    4 1647  248   98  881  176   11  372   83\n",
            " 1643 3915 2255    2  882 1037    5 3916 2256 3917]\n"
          ]
        }
      ],
      "source": [
        "print(xTrain[0])"
      ]
    },
    {
      "cell_type": "markdown",
      "metadata": {},
      "source": [
        "### Токенайзер"
      ]
    },
    {
      "cell_type": "code",
      "execution_count": 20,
      "metadata": {
        "colab": {
          "base_uri": "https://localhost:8080/"
        },
        "id": "lG0EMP7Ij9PJ",
        "outputId": "b9ba9364-7b0b-4540-fafe-596695a4f5e9"
      },
      "outputs": [
        {
          "name": "stdout",
          "output_type": "stream",
          "text": [
            "(106, 15000)\n",
            "[0. 0. 1. 1. 1. 1. 1. 1. 1. 1. 1. 1. 1. 1. 0. 1. 1. 0. 0. 1. 1. 1. 0. 1.\n",
            " 0. 0. 1. 1. 0. 1. 1. 1. 0. 1. 1. 1. 0. 1. 0. 0. 1. 1. 1. 1. 1. 1. 1. 1.\n",
            " 0. 1. 1. 1. 1. 0. 1. 1. 0. 1. 1. 1. 0. 0. 1. 0. 0. 1. 0. 0. 0. 1. 1. 1.\n",
            " 0. 1. 0. 0. 1. 0. 0. 1. 1. 0. 1. 1. 0. 0. 0. 1. 0. 1. 1. 1. 0. 1. 1. 0.\n",
            " 0. 0. 1. 1.]\n"
          ]
        }
      ],
      "source": [
        "# Преобразовываем полученные выборки из последовательности индексов в матрицы нулей и единиц по принципу Bag of Words\n",
        "xTrain01 = tokenizer.sequences_to_matrix(xTrain.tolist()) #Подаем xTrain в виде списка, чтобы метод успешно сработал\n",
        "xTest01 = tokenizer.sequences_to_matrix(xTest.tolist()) # Подаем xTest в виде списка, чтобы метод успешно сработал\n",
        "\n",
        "print(xTrain01.shape)       # Размер обучающей выборки, сформированной по Bag of Words\n",
        "print(xTrain01[0][0:100]) # Фрагмент набора слов в виде Bag of Words"
      ]
    },
    {
      "cell_type": "code",
      "execution_count": 21,
      "metadata": {
        "colab": {
          "base_uri": "https://localhost:8080/"
        },
        "id": "dQSXZT0Dj_y-",
        "outputId": "fda895e1-46d3-4d7c-904b-fe3437c4b373"
      },
      "outputs": [
        {
          "name": "stdout",
          "output_type": "stream",
          "text": [
            "0 0 1 1 1 1 1 1 1 1 1 1 1 1 0 1 1 0 0 1 1 1 0 1 0 0 1 1 0 1 1 1 0 1 1 1 0 1 0 0 1 1 1 1 1 1 1 1 0 1 1 1 1 0 1 1 0 1 1 1 0 0 1 0 0 1 0 0 0 1 1 1 0 1 0 0 1 0 0 1 1 0 1 1 0 0 0 1 0 1 1 1 0 1 1 0 0 0 1 1 "
          ]
        }
      ],
      "source": [
        "for i in range(100):\n",
        "  print(int(i in xTrain[0]),end=' ')"
      ]
    },
    {
      "cell_type": "markdown",
      "metadata": {},
      "source": [
        "### Создание модели"
      ]
    },
    {
      "cell_type": "code",
      "execution_count": 22,
      "metadata": {
        "colab": {
          "base_uri": "https://localhost:8080/"
        },
        "id": "A0fd3U8JkBWf",
        "outputId": "5e1ccab0-fb8f-4c73-8d2f-56b1adf12e64"
      },
      "outputs": [
        {
          "name": "stdout",
          "output_type": "stream",
          "text": [
            "Epoch 1/25\n",
            "1/1 [==============================] - 3s 3s/step - loss: 3.2983 - accuracy: 0.4340 - val_loss: 2.8630 - val_accuracy: 0.3846\n",
            "Epoch 2/25\n",
            "1/1 [==============================] - 0s 85ms/step - loss: 2.5290 - accuracy: 0.6887 - val_loss: 2.6141 - val_accuracy: 0.3846\n",
            "Epoch 3/25\n",
            "1/1 [==============================] - 0s 71ms/step - loss: 2.0564 - accuracy: 0.8302 - val_loss: 2.3923 - val_accuracy: 0.3846\n",
            "Epoch 4/25\n",
            "1/1 [==============================] - 0s 76ms/step - loss: 1.8667 - accuracy: 0.8396 - val_loss: 2.1934 - val_accuracy: 0.3846\n",
            "Epoch 5/25\n",
            "1/1 [==============================] - 0s 75ms/step - loss: 1.5446 - accuracy: 0.9623 - val_loss: 2.0154 - val_accuracy: 0.3846\n",
            "Epoch 6/25\n",
            "1/1 [==============================] - 0s 73ms/step - loss: 1.3967 - accuracy: 0.9811 - val_loss: 1.8537 - val_accuracy: 0.4615\n",
            "Epoch 7/25\n",
            "1/1 [==============================] - 0s 85ms/step - loss: 1.2734 - accuracy: 0.9906 - val_loss: 1.7103 - val_accuracy: 0.5000\n",
            "Epoch 8/25\n",
            "1/1 [==============================] - 0s 76ms/step - loss: 1.1175 - accuracy: 1.0000 - val_loss: 1.5821 - val_accuracy: 0.6538\n",
            "Epoch 9/25\n",
            "1/1 [==============================] - 0s 69ms/step - loss: 1.0400 - accuracy: 0.9906 - val_loss: 1.4677 - val_accuracy: 0.7308\n",
            "Epoch 10/25\n",
            "1/1 [==============================] - 0s 72ms/step - loss: 0.9528 - accuracy: 0.9906 - val_loss: 1.3659 - val_accuracy: 0.7692\n",
            "Epoch 11/25\n",
            "1/1 [==============================] - 0s 92ms/step - loss: 0.8647 - accuracy: 0.9906 - val_loss: 1.2750 - val_accuracy: 0.7692\n",
            "Epoch 12/25\n",
            "1/1 [==============================] - 0s 89ms/step - loss: 0.8013 - accuracy: 0.9906 - val_loss: 1.1953 - val_accuracy: 0.7692\n",
            "Epoch 13/25\n",
            "1/1 [==============================] - 0s 70ms/step - loss: 0.7345 - accuracy: 1.0000 - val_loss: 1.1249 - val_accuracy: 0.8077\n",
            "Epoch 14/25\n",
            "1/1 [==============================] - 0s 70ms/step - loss: 0.6770 - accuracy: 1.0000 - val_loss: 1.0631 - val_accuracy: 0.8462\n",
            "Epoch 15/25\n",
            "1/1 [==============================] - 0s 106ms/step - loss: 0.6254 - accuracy: 1.0000 - val_loss: 1.0090 - val_accuracy: 0.8846\n",
            "Epoch 16/25\n",
            "1/1 [==============================] - 0s 74ms/step - loss: 0.5768 - accuracy: 1.0000 - val_loss: 0.9617 - val_accuracy: 0.8846\n",
            "Epoch 17/25\n",
            "1/1 [==============================] - 0s 86ms/step - loss: 0.5493 - accuracy: 1.0000 - val_loss: 0.9202 - val_accuracy: 0.8846\n",
            "Epoch 18/25\n",
            "1/1 [==============================] - 0s 85ms/step - loss: 0.5097 - accuracy: 1.0000 - val_loss: 0.8835 - val_accuracy: 0.8846\n",
            "Epoch 19/25\n",
            "1/1 [==============================] - 0s 71ms/step - loss: 0.4818 - accuracy: 1.0000 - val_loss: 0.8512 - val_accuracy: 0.8846\n",
            "Epoch 20/25\n",
            "1/1 [==============================] - 0s 69ms/step - loss: 0.4492 - accuracy: 1.0000 - val_loss: 0.8228 - val_accuracy: 0.8846\n",
            "Epoch 21/25\n",
            "1/1 [==============================] - 0s 87ms/step - loss: 0.4214 - accuracy: 1.0000 - val_loss: 0.7974 - val_accuracy: 0.9231\n",
            "Epoch 22/25\n",
            "1/1 [==============================] - 0s 66ms/step - loss: 0.4005 - accuracy: 1.0000 - val_loss: 0.7750 - val_accuracy: 0.9615\n",
            "Epoch 23/25\n",
            "1/1 [==============================] - 0s 66ms/step - loss: 0.3804 - accuracy: 1.0000 - val_loss: 0.7548 - val_accuracy: 0.9615\n",
            "Epoch 24/25\n",
            "1/1 [==============================] - 0s 86ms/step - loss: 0.3588 - accuracy: 1.0000 - val_loss: 0.7367 - val_accuracy: 0.9615\n",
            "Epoch 25/25\n",
            "1/1 [==============================] - 0s 69ms/step - loss: 0.3457 - accuracy: 1.0000 - val_loss: 0.7202 - val_accuracy: 0.9615\n"
          ]
        }
      ],
      "source": [
        "# Создаём полносвязную сеть\n",
        "model02 = Sequential()\n",
        "\n",
        "# Первый полносвязный слой с L2-регуляризацией\n",
        "model02.add(Dense(100, input_dim=maxWordsCount, activation=\"sigmoid\", kernel_regularizer=l2(0.01)))\n",
        "\n",
        "# Слой регуляризации Dropout\n",
        "model02.add(Dropout(0.5))  # Добавляем Dropout с коэффициентом 0.5\n",
        "\n",
        "# Слой пакетной нормализации\n",
        "model02.add(BatchNormalization())\n",
        "\n",
        "# Выходной полносвязный слой с L2-регуляризацией\n",
        "model02.add(Dense(2, activation='softmax', kernel_regularizer=l2(0.01)))\n",
        "\n",
        "# Уменьшаем скорость обучения\n",
        "optimizer = tf.keras.optimizers.Adam(learning_rate=0.001)\n",
        "\n",
        "model02.compile(optimizer=optimizer,\n",
        "              loss='categorical_crossentropy',\n",
        "              metrics=['accuracy'])\n",
        "\n",
        "# Обучаем сеть на выборке, сформированной по bag of words - xTrain01\n",
        "history = model02.fit(xTrain01,\n",
        "                      yTrain,\n",
        "                      epochs=epo,\n",
        "                      batch_size=128,\n",
        "                      validation_data=(xTest01, yTest))\n"
      ]
    },
    {
      "cell_type": "code",
      "execution_count": 23,
      "metadata": {
        "colab": {
          "base_uri": "https://localhost:8080/"
        },
        "id": "KnNYRU_xkI-A",
        "outputId": "6e8af610-626e-4836-c2bb-b338a2e4a686"
      },
      "outputs": [
        {
          "name": "stdout",
          "output_type": "stream",
          "text": [
            "Model: \"sequential_9\"\n",
            "_________________________________________________________________\n",
            " Layer (type)                Output Shape              Param #   \n",
            "=================================================================\n",
            " dense_18 (Dense)            (None, 100)               1500100   \n",
            "                                                                 \n",
            " dropout_6 (Dropout)         (None, 100)               0         \n",
            "                                                                 \n",
            " batch_normalization_9 (Bat  (None, 100)               400       \n",
            " chNormalization)                                                \n",
            "                                                                 \n",
            " dense_19 (Dense)            (None, 2)                 202       \n",
            "                                                                 \n",
            "=================================================================\n",
            "Total params: 1500702 (5.72 MB)\n",
            "Trainable params: 1500502 (5.72 MB)\n",
            "Non-trainable params: 200 (800.00 Byte)\n",
            "_________________________________________________________________\n"
          ]
        }
      ],
      "source": [
        "model02.summary()"
      ]
    },
    {
      "cell_type": "code",
      "execution_count": 24,
      "metadata": {
        "colab": {
          "base_uri": "https://localhost:8080/",
          "height": 619
        },
        "id": "FSoDM0FnkKBV",
        "outputId": "4b133e10-0e5a-4d30-d02c-b5d92c8642ad"
      },
      "outputs": [
        {
          "data": {
            "image/png": "[encoded data removed]",
            "text/plain": [
              "<Figure size 1400x700 with 1 Axes>"
            ]
          },
          "metadata": {},
          "output_type": "display_data"
        }
      ],
      "source": [
        "plt.figure(figsize=(14,7))\n",
        "plt.plot(history.history['accuracy'],\n",
        "         label='Доля верных ответов на обучающем наборе')\n",
        "plt.plot(history.history['val_accuracy'],\n",
        "         label='Доля верных ответов на проверочном наборе')\n",
        "plt.xlabel('Эпоха обучения')\n",
        "plt.ylabel('Доля верных ответов')\n",
        "plt.legend()\n",
        "plt.show()"
      ]
    }
  ],
  "metadata": {
    "colab": {
      "provenance": []
    },
    "kernelspec": {
      "display_name": "Python 3",
      "name": "python3"
    },
    "language_info": {
      "name": "python"
    }
  },
  "nbformat": 4,
  "nbformat_minor": 0
}
